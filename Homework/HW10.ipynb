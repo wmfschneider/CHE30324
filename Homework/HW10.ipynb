{
 "cells": [
  {
   "cell_type": "markdown",
   "metadata": {},
   "source": [
    "# Chem 30324, Spring 2025, Homework 10\n"
   ]
  },
  {
   "cell_type": "markdown",
   "metadata": {
    "tags": []
   },
   "source": [
    "# Due April 26, 2025"
   ]
  },
  {
   "cell_type": "markdown",
   "metadata": {},
   "source": [
    "## Reactions from scratch\n",
    "### In 1996, Schneider and co-workers used DFT to compute the reaction pathway for unimolecular decomposition of trifluoromethanol, a reaction of relevance to the atmospheric degradation of hydrofluorocarbon refrigerants (*J. Phys. Chem.* **1996**, *100*, 6097- 6103, [doi:10.1021/jp952703m](https://pubs.acs.org/doi/abs/10.1021/jp952703m)): $$\\mathsf{CF_3OH\\rightarrow COF_2 + HF}$$\n",
    "### Following are some of the reported results, computed at 298 K:"
   ]
  },
  {
   "cell_type": "markdown",
   "metadata": {},
   "source": [
    "|              | CF$_3$OH| C(O)F$_2$ | HF |    |\n",
    "|:--------------|---------:|-----------:|----:|----:| \n",
    "| $E^\\text{elec}$ | -412.90047 | -312.57028 | -100.31885 | (Hartree) |\n",
    "| ZPE             | 0.02889 | 0.01422 | 0.00925 | (Hartree) |\n",
    "| $U^\\text{vib}$ | 4.3 | 1.2 | 0 |  (kJ mol$^{-1}$) |\n",
    "| $q^{\\text{trans}}/V$ | $7.72\\times 10^{32}$ | $1.59\\times 10^{32}$ |$8.65\\times 10^{31}$ | (m$^{-3}$) |\n",
    "| $q^\\text{rot}$ | 61830 | 679 | 9.59 | unitless |\n",
    "| $q^\\text{vib}$ | 2.33 | 1.16 | 1 | unitless |"
   ]
  },
  {
   "cell_type": "markdown",
   "metadata": {},
   "source": [
    "### 1. Compute $\\Delta \\bar{U}^\\text{trans}$(298 K) in kJ/mol. "
   ]
  },
  {
   "cell_type": "markdown",
   "metadata": {},
   "source": [
    "### 2. Compute $\\Delta \\bar{U}^\\text{rot}$(298 K) in kJ/mol. *Don't forget that HF is linear!* "
   ]
  },
  {
   "cell_type": "markdown",
   "metadata": {},
   "source": [
    "### 3. Combine your answers with the table to determine $\\Delta \\bar{U}^{\\circ}$(298 K), in kJ mol$^{-1}$.   "
   ]
  },
  {
   "cell_type": "markdown",
   "metadata": {},
   "source": [
    "### 4. Determine $\\Delta \\bar{H}^{\\circ}$(298 K), in kJ mol$^{-1}$, assuming all species are ideal gases."
   ]
  },
  {
   "cell_type": "markdown",
   "metadata": {},
   "source": [
    "### 5. Determine  $\\Delta \\bar{G}^{\\circ}$(298 K) in kJ mol$^{-1}$, assuming ideal behavior and 1 bar standard state.  Recall that $\\bar{G}^\\circ=E^\\mathsf{elec} + \\mathsf{ZPE}-RT\\ln(q^\\circ)$, where $q^\\circ = ((q^\\mathsf{trans}/V)q^\\mathsf{rot}q^\\mathsf{vib})/c^\\circ$ and $c^\\circ = P^\\circ/RT$."
   ]
  },
  {
   "cell_type": "markdown",
   "metadata": {},
   "source": [
    "### 6. Determine $\\Delta \\bar{S}^{\\circ}$(298 K), in J mol$^{-1}$ K$^{-1}$ , assuming a 1 bar standard state. Recall that $S = (H - \n",
    "G)/T$."
   ]
  },
  {
   "cell_type": "markdown",
   "metadata": {},
   "source": [
    "### 7. Using the data provided, determine $K_p$ (298 K), assuming a 1 bar standard state."
   ]
  },
  {
   "cell_type": "markdown",
   "metadata": {},
   "source": [
    "### 8. 1 bar of CF$_3$OH is introduced into a 20 L vessel at 298 K and left long enough to come to equilibrium with respect to its decomposition reaction. What is the composition of the gas mixture (mole fractions of all the components) at equilibrium?"
   ]
  },
  {
   "cell_type": "markdown",
   "metadata": {},
   "source": [
    "### 9. How, directionally, would your answer to Question 8 change if the vessel was at a higher temperature? Provide a sketch incorporating the Boltzmann distribution to rationalize your answer."
   ]
  },
  {
   "cell_type": "markdown",
   "metadata": {},
   "source": [
    "### 10. Use the van'T Hoff relationship to determine the equilibrium constant and equilibrium mole fractions at 273 and 323 K."
   ]
  },
  {
   "cell_type": "markdown",
   "metadata": {},
   "source": [
    "### 11. How, directionally, would your answer to Question 8 change if the vessel was compressed to a smaller volume? Rationalize your answer in terms of partition functions."
   ]
  },
  {
   "cell_type": "markdown",
   "metadata": {},
   "source": [
    "### 12. Check your answer to Question 11 by computing the equilibrium composition after compressing the vessel to 5 L."
   ]
  },
  {
   "cell_type": "markdown",
   "metadata": {},
   "source": [
    "### 13. Consult a thermodynamics source (e.g. https://webbook.nist.gov/chemistry/) to determine $\\Delta H^\\circ$(298 K), $\\Delta S^\\circ$(298 K), and $\\Delta G^\\circ$(298 K) for the homologous reaction CH$_3$OH (g)$\\rightarrow$ H$_2$ (g) + H$_2$CO (g).  Does the substitution of F by H make the reaction lean more or less towards products?"
   ]
  }
 ],
 "metadata": {
  "anaconda-cloud": {},
  "kernelspec": {
   "display_name": "Python [conda env:base] *",
   "language": "python",
   "name": "conda-base-py"
  },
  "language_info": {
   "codemirror_mode": {
    "name": "ipython",
    "version": 3
   },
   "file_extension": ".py",
   "mimetype": "text/x-python",
   "name": "python",
   "nbconvert_exporter": "python",
   "pygments_lexer": "ipython3",
   "version": "3.11.11"
  }
 },
 "nbformat": 4,
 "nbformat_minor": 4
}
