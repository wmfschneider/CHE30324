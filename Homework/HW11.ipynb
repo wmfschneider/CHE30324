{
 "cells": [
  {
   "cell_type": "markdown",
   "metadata": {},
   "source": [
    "# Chem 30324, Spring 2025, Homework 11\n"
   ]
  },
  {
   "cell_type": "markdown",
   "metadata": {},
   "source": [
    "# Due May 3, 2025"
   ]
  },
  {
   "cell_type": "markdown",
   "metadata": {},
   "source": [
    "## What to do with ethylene?\n",
    "### Ethylene (C$_2$H$_4$) is an important commodity chemical. Partial oxidation to ethylene oxide (oxirane) is a useful way to introduce additional functionalization:"
   ]
  },
  {
   "cell_type": "markdown",
   "metadata": {},
   "source": [
    "$$\\text{C}_2\\text{H}_4 \\text{(g)} + \\frac{1}{2} \\text{O}_2 \\text{(g)}\\rightarrow \\text{C}_2\\text{H}_4\\text{O}\\text{(g)}$$"
   ]
  },
  {
   "cell_type": "markdown",
   "metadata": {},
   "source": [
    "### At 500 K over an appropriate catalyst, the reaction is first-order in ethylene, half-order in O$_2$, zero order in products, and has a rate constant of 0.8 bar$^{-1/2}$ s$^{-1}$. You plan to study the reaction in an isothermal, contant pressure reactor, starting with a 20 mole % excess of ethylene ($n_\\text{C2H4}/n_\\text{O2} =1.2$) at 2 bar total pressure."
   ]
  },
  {
   "cell_type": "markdown",
   "metadata": {},
   "source": [
    "### 1. Draw the structure of ethylene oxide. "
   ]
  },
  {
   "cell_type": "markdown",
   "metadata": {},
   "source": [
    "### 2. Is the reaction as written an elementary step? Why or why not?"
   ]
  },
  {
   "cell_type": "markdown",
   "metadata": {},
   "source": [
    "### 3. Write down the rate law for the formation of ethylene oxide."
   ]
  },
  {
   "cell_type": "markdown",
   "metadata": {},
   "source": [
    "### 4. Create an ICE table for this reaction.  My advice is to create the table in terms of *moles* of species and an  advancement $\\xi$.  What is the maximum possible value of $\\xi$?"
   ]
  },
  {
   "cell_type": "markdown",
   "metadata": {},
   "source": [
    "### 5. Define a conversion *X* as $\\xi/\\xi_\\text{max}$, so $0 \\le X \\le 1$ Plot the partial pressures of all species vs $X$.  *Hint*: Recall the partial pressure is $P y_i$, and $y_i = N_i/N_\\text{tot}$  from the ICE table."
   ]
  },
  {
   "cell_type": "markdown",
   "metadata": {},
   "source": [
    "### 6. Plot the forward reaction rate vs $X$. Be sure to include appropriate units."
   ]
  },
  {
   "cell_type": "markdown",
   "metadata": {},
   "source": [
    "### 7. The apparent activation energy of the reaction is 60 kJ mol$^{-1}$.  What is the reaction prefactor? Include appropriate units."
   ]
  },
  {
   "cell_type": "markdown",
   "metadata": {},
   "source": [
    "### 8. The apparent activation energy of the reaction is 60 kJ mol$^{-1}$.  Estimate the rate constant at 550 K."
   ]
  },
  {
   "cell_type": "markdown",
   "metadata": {},
   "source": [
    "### 9. From the information given, can you predict the rate law for the reverse reaction?"
   ]
  },
  {
   "cell_type": "markdown",
   "metadata": {},
   "source": [
    "## Rate constants from scratch\n",
    "### In 1996, Schneider and co-workers used quantum chemistry to compute the reaction pathway for unimolecular decomposition of trifluoromethanol, a reaction of relevance to the atmospheric degradation of hydrofluorocarbon refrigerants (*J. Phys. Chem.* **1996**, *100*, 6097- 6103, [doi:10.1021/jp952703m](https://pubs.acs.org/doi/abs/10.1021/jp952703m)): \n",
    "\n",
    "$$\\text{CF}_3\\text{OH}\\rightarrow \\text{COF}_2 + \\text{HF}$$\n",
    "### Following are some of the reported results, computed at 298 K:"
   ]
  },
  {
   "cell_type": "markdown",
   "metadata": {},
   "source": [
    "|                     | CF$_3$OH             | \\[CF$_3$OH\\]$^\\ddagger$ | C(O)F$_2$ | HF |\n",
    "|:--------------------|---------------------:|------------------------:|----------:|---:| \n",
    "| $E^\\text{elec}$ (Hartree)| -412.90047|-412.82771|-312.57028|-100.31885|\n",
    "| ZPE (Hartree)| 0.02889| 0.02313| 0.01422 | 0.00925 |\n",
    "| $U^\\text{trans}$ (kJ mol$^{-1}$)| 3.7| 3.7   | 3.7| 3.7 |\n",
    "| $U^\\text{rot }$  (kJ mol$^{-1}$)| 3.7| 3.7   | 3.7| 2.5 |\n",
    "| $U^\\text{vib}$   (kJ mol$^{-1}$)| 4.3| 4.1   |1.2 | 0 |\n",
    "| $q^{\\text{trans}}/V$ (m$^{-3}$) | $7.72\\times 10^{32}$ | $7.72\\times 10^{32}$   |$1.59\\times 10^{32}$ |$8.65\\times 10^{31}$ |\n",
    "| $q^\\text{rot}$      | 61830                |  68420  | 679 | 9.59 |\n",
    "| $q^\\text{vib}$      | 2.33                 |  2.28  | 1.16 | 1 |"
   ]
  },
  {
   "cell_type": "markdown",
   "metadata": {},
   "source": [
    "### 10. Provide a rough sketch of what you expect the transition state to look like."
   ]
  },
  {
   "cell_type": "markdown",
   "metadata": {},
   "source": [
    "### 11. Based on the data in the table, create a potential energy surface for the unimolecular decomposition reaction. Indicate on the PES the location of the reactants, the products, and the transition state. Also indicate relevant zero point energies, the 0 K reaction energy, and the activation energy."
   ]
  },
  {
   "cell_type": "markdown",
   "metadata": {},
   "source": [
    "### 12. Using data from the table and harmonic transition state theory, compute the  first-order rate constant for CF$_3$OH decomposition at 298 K, in s$^{-1}$."
   ]
  },
  {
   "cell_type": "markdown",
   "metadata": {},
   "source": [
    "### 13. Based on your computed rate constant, what is the half-life of CF$_3$OH at 298 K?"
   ]
  },
  {
   "cell_type": "markdown",
   "metadata": {},
   "source": [
    "### 14. Experiments reveal that the CF$_3$OH comes to equilibrium far faster than the unimolecular rate would suggest. Provide a possible explanation for this observation (other than that Schneider calculations are incorrect!)."
   ]
  }
 ],
 "metadata": {
  "anaconda-cloud": {},
  "kernelspec": {
   "display_name": "Python [conda env:base] *",
   "language": "python",
   "name": "conda-base-py"
  },
  "language_info": {
   "codemirror_mode": {
    "name": "ipython",
    "version": 3
   },
   "file_extension": ".py",
   "mimetype": "text/x-python",
   "name": "python",
   "nbconvert_exporter": "python",
   "pygments_lexer": "ipython3",
   "version": "3.11.11"
  }
 },
 "nbformat": 4,
 "nbformat_minor": 4
}
