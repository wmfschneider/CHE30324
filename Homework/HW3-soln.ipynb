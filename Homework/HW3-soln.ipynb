{
  "cells": [
    {
      "cell_type": "markdown",
      "metadata": {
        "collapsed": true,
        "id": "NQFkdYZxvcso",
        "jupyter": {
          "outputs_hidden": true
        }
      },
      "source": [
        "##### Chem 30324, Spring 2025, Homework3\n",
        "\n",
        "# Due February 7, 2025"
      ]
    },
    {
      "cell_type": "markdown",
      "metadata": {
        "id": "k0vXNqoRvcsq"
      },
      "source": [
        "## Heat capacity of solids"
      ]
    },
    {
      "cell_type": "markdown",
      "metadata": {
        "id": "Atopp5s5vcsq"
      },
      "source": [
        "### 1. In Einstein's [original paper](https://onlinelibrary.wiley.com/doi/abs/10.1002/andp.19063270110) on the heat capacity of solids, he compared his model results to experiments on diamond, using a frequency for the vibrating C atoms $\\nu = 2.75 \\times 10^{13} \\text{s}^{-1}$.  What fundamentally did he assume about the vibrating C atoms to describe the heat capacity of diamond?"
      ]
    },
    {
      "cell_type": "markdown",
      "source": [
        "Seen on Lecture4-Demise:\n",
        "\n",
        "Einstein made two assumptions, that the energy was proportional to the frequency and that the energy was quantized, that it held discrete values."
      ],
      "metadata": {
        "id": "ySv_bCAtw14_"
      }
    },
    {
      "cell_type": "markdown",
      "metadata": {
        "id": "b9kOUtnMvcsq"
      },
      "source": [
        "### 2. Plot the Einstein model for the heat capacity of diamond from 0 to 1500 K."
      ]
    },
    {
      "cell_type": "markdown",
      "source": [
        "This is using the Einstein crystal equation:\n",
        "\n",
        "\\begin{equation}\n",
        "C_v = 3R(\\frac{h\\nu}{k_BT})^2\\frac{e^\\frac{h\\nu}{k_BT}}{(e^\\frac{h\\nu}{k_BT}-1)^2}\n",
        "\\end{equation}"
      ],
      "metadata": {
        "id": "5mfnG9i86tbY"
      }
    },
    {
      "cell_type": "code",
      "source": [
        "#Initialization of constants\n",
        "#Gas Constant in J/molK\n",
        "R = 8.314\n",
        "# Planck's constant in Js-1\n",
        "h = 6.626e-34\n",
        "#Boltzmann Constant in J K^-1\n",
        "k = 1.381e-23\n",
        "#Initializing Temperature, our independent variable in K\n",
        "T = np.linspace(0,1500,100)\n",
        "#Our frequency is given by problem 1, in s-1\n",
        "v = 2.75e13\n",
        "#Define our equation\n",
        "\n",
        "def Cv(T):\n",
        "  return 3*R*(h*v/(k*T))**2*(np.exp(h*v/(k*T)))/((np.exp(h*v/(k*T))-1)**2)\n",
        "\n",
        "# Generate Plot\n",
        "plt.plot(T, Cv(T))\n",
        "\n",
        "# Labels and legend\n",
        "plt.xlabel('Temperature K')\n",
        "plt.ylabel('Heat Capacity (J/K)')\n",
        "plt.title('Einstein model for diamond Cv')\n",
        "\n",
        "plt.show()"
      ],
      "metadata": {
        "colab": {
          "base_uri": "https://localhost:8080/",
          "height": 545
        },
        "id": "03mtgeuRGXu_",
        "outputId": "97bfd9b7-62b2-4a3f-c8dd-71448c12ea93"
      },
      "execution_count": null,
      "outputs": [
        {
          "output_type": "stream",
          "name": "stderr",
          "text": [
            "<ipython-input-12-9917bb869bc9>:15: RuntimeWarning: divide by zero encountered in divide\n",
            "  return 3*R*(h*v/(k*T))**2*(np.exp(h*v/(k*T)))/((np.exp(h*v/(k*T))-1)**2)\n",
            "<ipython-input-12-9917bb869bc9>:15: RuntimeWarning: invalid value encountered in divide\n",
            "  return 3*R*(h*v/(k*T))**2*(np.exp(h*v/(k*T)))/((np.exp(h*v/(k*T))-1)**2)\n"
          ]
        },
        {
          "output_type": "display_data",
          "data": {
            "text/plain": [
              "<Figure size 640x480 with 1 Axes>"
            ],
            "image/png": "[encoded data removed]"
          },
          "metadata": {}
        }
      ]
    },
    {
      "cell_type": "markdown",
      "metadata": {
        "id": "WYlTEZNAvcsq"
      },
      "source": [
        "### 3. What is the probability for a C atom to have $n=1$ quanta of energy relative to $n=0$ at 1500 K?  At 150 K?\n",
        "\n",
        "\n"
      ]
    },
    {
      "cell_type": "markdown",
      "source": [
        "This equation is derived in lecture 4 under the 1907 Einstein section, the probability to have energy E reduces to the following equation:\n",
        "\n",
        "\\begin{equation}\n",
        "P(E_n) = e^\\frac{-Nh\\nu}{k_BT}*(1-e^\\frac{-h\\nu}{k_BT})\n",
        "\\end{equation}\n",
        "\n",
        "Using the values above, with n = 0 and n = 1 we get the following:"
      ],
      "metadata": {
        "id": "6IPmJi4UKnAt"
      }
    },
    {
      "cell_type": "code",
      "source": [
        "def P(N,T):\n",
        "  return np.exp(-N*h*v/(k*T))*(1-np.exp(-h*v/(k*T)))\n",
        "#For T = 150\n",
        "T = 150\n",
        "N = 0\n",
        "print(\"The probability of n=0 and n=1 at 150\")\n",
        "print(\"N=0: \", P(N,T))\n",
        "N = 1\n",
        "print(\"N=1: \", P(N,T))\n",
        "T = 1500\n",
        "N = 0\n",
        "print(\"The probability of n=0 and n=1 at 1500\")\n",
        "print(\"N=0: \", P(N,T))\n",
        "N=1\n",
        "print(\"N=1: \", P(N,T))"
      ],
      "metadata": {
        "colab": {
          "base_uri": "https://localhost:8080/"
        },
        "id": "qRdJ9OTML2lZ",
        "outputId": "f32a0d20-e668-4c71-eb56-aba6f6bcd7d1"
      },
      "execution_count": null,
      "outputs": [
        {
          "output_type": "stream",
          "name": "stdout",
          "text": [
            "The probability of n=0 and n=1 at 150\n",
            "N=0:  0.9998487055903753\n",
            "N=1:  0.00015127151962632645\n",
            "The probability of n=0 and n=1 at 1500\n",
            "N=0:  0.5850628801559956\n",
            "N=1:  0.24276430641956673\n"
          ]
        }
      ]
    },
    {
      "cell_type": "markdown",
      "metadata": {
        "id": "LpECHJs2vcsq"
      },
      "source": [
        "## Blackbody radiators.\n",
        "By treating the sun as a blackbody radiator, Joseph Stefan derived the first reliable estimate of the temperature of the sun’s surface."
      ]
    },
    {
      "cell_type": "markdown",
      "metadata": {
        "id": "Is0bTHDnvcsr"
      },
      "source": [
        "### 4. Stefan estimated that the power per unit area radiated from the surface of the sun was 43.5 times greater than that of a metal bar heated to 1950 ̊C. What is the temperature of the surface of the sun?"
      ]
    },
    {
      "cell_type": "markdown",
      "source": [
        "We're going to use the stephan Boltzmann law:\n",
        "\\begin{equation}\n",
        "J = \\sigma T^4\n",
        "\\end{equation}\n",
        "\n",
        "we set each value equal to each other and solve for $T_{sun}$\n",
        "\\begin{equation}\n",
        "\\sigma T_{sun}^4 = 43.5*\\sigma T_{bar}^4\n",
        "\\end{equation}\n",
        "\n",
        "\\begin{equation}\n",
        "T_{sun} = (43.5*T_{bar}^4)^\\frac{1}{4}\n",
        "\\end{equation}"
      ],
      "metadata": {
        "id": "8H35mtssM9cS"
      }
    },
    {
      "cell_type": "code",
      "source": [
        "#Temperature in Kelvin\n",
        "Tbar=1950+273\n",
        "Tsun=(43.5*Tbar**4)**(1/4)\n",
        "print(\"Temperature of the sun: \", Tsun, \"K\")"
      ],
      "metadata": {
        "colab": {
          "base_uri": "https://localhost:8080/"
        },
        "id": "dO_A4tDOM4Co",
        "outputId": "711d28e4-119a-4894-bd71-8c8b410cf03b"
      },
      "execution_count": null,
      "outputs": [
        {
          "output_type": "stream",
          "name": "stdout",
          "text": [
            "Temperature of the sun:  5709.022793362717 K\n"
          ]
        }
      ]
    },
    {
      "cell_type": "markdown",
      "metadata": {
        "id": "zAgjsjnXvcsr"
      },
      "source": [
        "### 5. Based on this temperature, what wavelength $\\lambda$ of light does the sun emit most intensely, in nm? What frequency of light, in s$^{–1}$? What color does this correspond to?"
      ]
    },
    {
      "cell_type": "code",
      "source": [
        "#Star with Wein's Law constant in nm K\n",
        "Wconst = 2897768\n",
        "#Gives the wavelength in nm\n",
        "Lmax = Wconst/Tsun\n",
        "#speed of light in m/s\n",
        "c =3e8\n",
        "#calculate the frequency\n",
        "nmax = (c/(Lmax*1e-9))#the 1e-9 is to convert from nm to m, be sure your parentheses are right otherwise\n",
        "#you'll be off by factors of 10\n",
        "print(\"wavelength\", Lmax, \"nm\")\n",
        "print(\"frequency\", nmax, \"Hz\")\n",
        "print(Lmax, \"nm is green light\")"
      ],
      "metadata": {
        "colab": {
          "base_uri": "https://localhost:8080/"
        },
        "id": "oZs3vdtJOKb4",
        "outputId": "e6470797-743d-4134-d134-9450a3633bb5"
      },
      "execution_count": null,
      "outputs": [
        {
          "output_type": "stream",
          "name": "stdout",
          "text": [
            "wavelength 507.57688397547327 nm\n",
            "frequency 591043464490192.0 Hz\n",
            "507.57688397547327 nm is green light\n"
          ]
        }
      ]
    },
    {
      "cell_type": "markdown",
      "source": [],
      "metadata": {
        "id": "H43IO5zfN8JG"
      }
    },
    {
      "cell_type": "markdown",
      "metadata": {
        "id": "MnVCvte5vcsr"
      },
      "source": [
        "### 6. What is the ultraviolet catastrophe, and what did Planck have to assume to circumvent it?"
      ]
    },
    {
      "cell_type": "markdown",
      "source": [
        "Classical physics predicts infinite energy emitted at small wavelengths which breaks energy conservation. Plank circumvented it by assuming quantized energy; in that electromagnetic radiation could only be emitted or absorbed in discrete energy units of hv"
      ],
      "metadata": {
        "id": "O-gF0tfAP5Cd"
      }
    },
    {
      "cell_type": "markdown",
      "metadata": {
        "id": "cqKDjZx8vcsr"
      },
      "source": [
        "## Photoelectric effect.\n",
        "The photoelectric effect refers to the emission of electrons that is observed when light is shone on a metal. The effect was the clue that Einstein needed to illucidate the particulate nature of the interaction of light and matter."
      ]
    },
    {
      "cell_type": "markdown",
      "metadata": {
        "id": "gPnmsDIlvcsr"
      },
      "source": [
        "### 7. You set up an experiment in which you shine light of varying intensity and constant frequency at a metal surface and measure the maximum kinetic energy of the emitted electrons. As an accomplished student of classical physics, you know that the energy contained in a wave is proportional to the square of its intensity. Based on this knowledge, sketch how you $expect$ the kinetic energy of the electrons to vary in the experiment. Briefly justify your answer."
      ]
    },
    {
      "cell_type": "code",
      "source": [
        "import numpy as np\n",
        "import matplotlib.pyplot as plt\n",
        "\n",
        "I = np.linspace(0,2*np.pi,30)\n",
        "E = I**2\n",
        "plt.plot(I,E)\n",
        "plt.xlabel('Intensity')\n",
        "plt.ylabel('Kinetic Energy')\n",
        "plt.show()"
      ],
      "metadata": {
        "colab": {
          "base_uri": "https://localhost:8080/",
          "height": 449
        },
        "id": "wIN2PwIOar2O",
        "outputId": "35a954d9-79af-4d0d-e592-9a8450045b05"
      },
      "execution_count": null,
      "outputs": [
        {
          "output_type": "display_data",
          "data": {
            "text/plain": [
              "<Figure size 640x480 with 1 Axes>"
            ],
            "image/png": "[encoded data removed]"
          },
          "metadata": {}
        }
      ]
    },
    {
      "cell_type": "markdown",
      "source": [
        "We would expect the Kinetic energy to be proportional to the square of the intensity"
      ],
      "metadata": {
        "id": "Of4U08YGa-iF"
      }
    },
    {
      "cell_type": "markdown",
      "metadata": {
        "id": "TADkXtcWvcsr"
      },
      "source": [
        "### 8. Not finding a result that you like, you set up another experiment in which you vary the frequency of light at constant intensity. Below is the data you collect. Use the data to determine the workfunction of the metal, in eV, and to estimate Planck’s constant, in eV s."
      ]
    },
    {
      "cell_type": "markdown",
      "metadata": {
        "id": "cwnzt7cdvcss"
      },
      "source": [
        "|Light Wavelength (nm)|Electron Kinetic Energy (eV)|\n",
        "|:-:|:-:|\n",
        "|263|0.13|\n",
        "|250|0.33|\n",
        "|234|0.68|\n",
        "|218|1.08|\n",
        "|184|2.13|"
      ]
    },
    {
      "cell_type": "code",
      "source": [
        "from scipy.stats import linregress\n",
        "\n",
        "# Speed of light in nm/s\n",
        "c = 299792458e9\n",
        "\n",
        "# Frequency values (c / wavelength)\n",
        "x = [c/263, c/250, c/234, c/218, c/184]  # in 1/s\n",
        "\n",
        "# Corresponding kinetic energy values in eV\n",
        "y = [0.13, 0.33, 0.68, 1.08, 2.13]  # in eV\n",
        "\n",
        "# Perform linear regression\n",
        "slope, intercept, r_value, p_value, std_err = linregress(x, y)\n",
        "\n",
        "# Work function (absolute value of intercept)\n",
        "i = np.abs(intercept)\n",
        "\n",
        "# Print results\n",
        "print('The work function is {} eV'.format(i))\n",
        "print('Estimation of Planck\\'s constant: {} eV⋅s'.format(slope))\n"
      ],
      "metadata": {
        "colab": {
          "base_uri": "https://localhost:8080/"
        },
        "id": "fGx7JjSebyep",
        "outputId": "9d885f7f-af41-47e6-bdaa-83fdd738bbbe"
      },
      "execution_count": null,
      "outputs": [
        {
          "output_type": "stream",
          "name": "stdout",
          "text": [
            "The work function is 4.597804368955146 eV\n",
            "Estimation of Planck's constant: 4.1268123345226185e-15 eV⋅s\n"
          ]
        }
      ]
    },
    {
      "cell_type": "markdown",
      "metadata": {
        "id": "p_6LlkRXvcss"
      },
      "source": [
        "### 9. What is the metal? $Hint:$ It is a coinage metal."
      ]
    },
    {
      "cell_type": "markdown",
      "source": [
        "Copper has a work function of 4.7 eV"
      ],
      "metadata": {
        "id": "Givi7LwjcH00"
      }
    },
    {
      "cell_type": "markdown",
      "metadata": {
        "id": "XVjRbDHlvcss"
      },
      "source": [
        "## Diffraction.\n",
        "Diffraction is the scattering of particles off of a crystal, and is today an essential means of probing the structure of matter. Modern diffraction is performed using bright light and particle sources of various types."
      ]
    },
    {
      "cell_type": "markdown",
      "metadata": {
        "id": "XdQ0RKkMvcss"
      },
      "source": [
        "### 10. The spacing between atoms in a Ag crystal is approximately 2.9 Å, a distance that can be measured by scattering photons of a comparable wavelength off the crystal. What is the energy (in eV) of a photon of wavelength 2.9 Å? What part of the electromagnetic spectrum does this correspond to?"
      ]
    },
    {
      "cell_type": "code",
      "source": [
        "# Planck's constant in eV⋅s\n",
        "h = 4.135668e-15  # eV⋅s\n",
        "\n",
        "# Speed of light in nm/s\n",
        "c = 299792458e9  # nm/s\n",
        "\n",
        "# Wavelength in nm (0.29 nm = 2.9 Å)\n",
        "wavelength = 0.29  # nm\n",
        "\n",
        "# Energy of the photon using E = hc/λ\n",
        "E = h * c / wavelength  # eV\n",
        "\n",
        "print('The energy of a photon at 2.9 Å is {} eV'.format(E))\n",
        "print('This corresponds to soft X-rays in the electromagnetic spectrum.')\n"
      ],
      "metadata": {
        "colab": {
          "base_uri": "https://localhost:8080/"
        },
        "id": "OY7z83N0cfxU",
        "outputId": "c82c0f8e-3a45-44b5-daba-13bdd5dcc2e4"
      },
      "execution_count": null,
      "outputs": [
        {
          "output_type": "stream",
          "name": "stdout",
          "text": [
            "The energy of a photon at 2.9 Å is 4275.317500661877 eV\n",
            "This corresponds to soft X-rays in the electromagnetic spectrum.\n"
          ]
        }
      ]
    },
    {
      "cell_type": "markdown",
      "metadata": {
        "id": "7C5o0Peyvcss"
      },
      "source": [
        "### 11. Suppose you have a device that produces these photons at a power of 1 μW. How many photons/s does this correspond to?"
      ]
    },
    {
      "cell_type": "code",
      "source": [
        "# Power in watts (1 microwatt = 1e-6 J/s)\n",
        "P = 1e-6  # J/s\n",
        "\n",
        "# Energy of a photon (assuming E is already defined in eV)\n",
        "\n",
        "# Convert eV to Joules: 1 eV = 1.602e-19 J\n",
        "E_J = E * 1.602e-19  # Convert energy to Joules\n",
        "\n",
        "# Calculate the number of photons per second\n",
        "photons = P / E_J\n",
        "\n",
        "print('1 microwatt corresponds to {:.2E} photons/second.'.format(photons))\n"
      ],
      "metadata": {
        "colab": {
          "base_uri": "https://localhost:8080/"
        },
        "id": "OjFiT89UcuBK",
        "outputId": "495ad5ad-0849-4fe0-c6c6-985ce24e96c2"
      },
      "execution_count": null,
      "outputs": [
        {
          "output_type": "stream",
          "name": "stdout",
          "text": [
            "1 microwatt corresponds to 1.46E+09 photons/second.\n"
          ]
        }
      ]
    },
    {
      "cell_type": "markdown",
      "metadata": {
        "id": "ubvD12aZvcss"
      },
      "source": [
        "### 12. The Ag spacing can also be measured by scattering $electrons$ off a crystal. To what speed (in m/s) would an electron need to be accelerated to have the necessary de Broglie wavelength? What fraction of the speed of light is this?"
      ]
    },
    {
      "cell_type": "code",
      "source": [
        "# Constants\n",
        "c = 299792458  # Speed of light in m/s\n",
        "m = 9.109e-31  # Electron mass in kg\n",
        "h = 6.626e-34  # Planck's constant in m² kg/s\n",
        "\n",
        "# De Broglie wavelength in meters\n",
        "wavelength = 0.29e-9  # 0.29 nm converted to meters\n",
        "\n",
        "# Calculate velocity using de Broglie equation: v = h / (m * λ)\n",
        "v = h / (wavelength * m)  # in m/s\n",
        "\n",
        "# Fraction of speed of light\n",
        "fraction = v / c\n",
        "\n",
        "print('To have the necessary de Broglie wavelength, v = {:.2E} m/s'.format(v))\n",
        "print('This is {:.2E} of the speed of light.'.format(fraction))\n"
      ],
      "metadata": {
        "colab": {
          "base_uri": "https://localhost:8080/"
        },
        "id": "sDEwDExsc2yb",
        "outputId": "3511e02f-3604-461a-e52a-89dd6691ea69"
      },
      "execution_count": null,
      "outputs": [
        {
          "output_type": "stream",
          "name": "stdout",
          "text": [
            "To have the necessary de Broglie wavelength, v = 2.51E+06 m/s\n",
            "This is 8.37E-03 of the speed of light.\n"
          ]
        }
      ]
    },
    {
      "cell_type": "markdown",
      "metadata": {
        "id": "YNauhmhvvcss"
      },
      "source": [
        "## The Bohr atom.\n",
        "Bohr developed the first successful model of the energy spectrum of a hydrogen atom by postulating that electrons can only exist in certain fixed energy “orbits” indexed by the quantum number $n$. (Recall that the equations describing the Bohr atom are in Table 4 of the course outline.)"
      ]
    },
    {
      "cell_type": "markdown",
      "metadata": {
        "id": "qjEo1rOTvcss"
      },
      "source": [
        "### 13. Would light need to be absorbed or emitted to cause an electron to jump from the $n$ = 1 to the $n$ = 2 orbit? What wavelength of light does this correspond to?"
      ]
    },
    {
      "cell_type": "code",
      "source": [
        "EH = 27.212 # Energy of a hydrogen molecule[=] eV\n",
        "\n",
        "n1 = 1\n",
        "n2 = 2\n",
        "E1 = -EH/(2*n1**2)\n",
        "E2 = -EH/(2*n2**2)\n",
        "\n",
        "# Calculating the wavelength\n",
        "hc = 1240 #[=] eV*nm\n",
        "dE = E2-E1 #[=] eV\n",
        "wavelength = hc/dE\n",
        "print(f'Wavelength is {wavelength:.3f}nm')\n",
        "print('Light needs to be absorbed to cause an electron to jump from n=1 to n=2 orbital')"
      ],
      "metadata": {
        "colab": {
          "base_uri": "https://localhost:8080/"
        },
        "id": "pSlV1CgIjSCu",
        "outputId": "ba87ced3-23d4-4dcf-d377-322279df57d5"
      },
      "execution_count": null,
      "outputs": [
        {
          "output_type": "stream",
          "name": "stdout",
          "text": [
            "Wavelength is 121.515nm\n",
            "Light needs to be absorbed to cause an electron to jump from n=1 to n=2 orbital\n"
          ]
        }
      ]
    },
    {
      "cell_type": "markdown",
      "metadata": {
        "id": "kcbBYJG8vcss"
      },
      "source": [
        "### 14. What is the circumference of the $n$ = 2 orbit? What is the de Broglie wavelength of an electron in the $n$ = 2 orbit? How do these compare?"
      ]
    },
    {
      "cell_type": "code",
      "source": [
        "import numpy as np\n",
        "# Calculating the circumference\n",
        "a0 = 0.529177e-10 # Bohr radius for hydrogen atom [=] m\n",
        "r2 = a0*n2**2 # r at second orbital [=] m\n",
        "l = 2*np.pi*r2 # circumference [=] m\n",
        "\n",
        "# constants\n",
        "k = 2.30708e-28 # [=] J*m\n",
        "me = 9.109e-31 # mass of electron [=] kg\n",
        "h = 6.62607e-34 # [=] J*s\n",
        "hbar = 1.05457e-34 # [=] reduced Plank constnat\n",
        "\n",
        "# Calculating the wavelength\n",
        "p0 = k*me/hbar #[=] kg*m/s\n",
        "p2 = p0/n2\n",
        "wavelength2 = h/p2 # [=] m\n",
        "print(f'circumstance: {l:.3e}m')\n",
        "print(f'wavelength: {wavelength2:.3e}m')\n",
        "print(f'circumference = {l/wavelength2:.2g}*the de Broglie wavelength')"
      ],
      "metadata": {
        "colab": {
          "base_uri": "https://localhost:8080/"
        },
        "id": "t8z-i2VUjSeH",
        "outputId": "a8117d58-4569-4fa0-a060-47935ea3fda8"
      },
      "execution_count": null,
      "outputs": [
        {
          "output_type": "stream",
          "name": "stdout",
          "text": [
            "circumstance: 1.330e-09m\n",
            "wavelength: 6.650e-10m\n",
            "circumference = 2*the de Broglie wavelength\n"
          ]
        }
      ]
    },
    {
      "cell_type": "code",
      "source": [],
      "metadata": {
        "id": "jhJjBkVtmRVF"
      },
      "execution_count": null,
      "outputs": []
    }
  ],
  "metadata": {
    "anaconda-cloud": {},
    "colab": {
      "provenance": []
    },
    "kernelspec": {
      "display_name": "Python [conda env:base] *",
      "language": "python",
      "name": "conda-base-py"
    },
    "language_info": {
      "codemirror_mode": {
        "name": "ipython",
        "version": 3
      },
      "file_extension": ".py",
      "mimetype": "text/x-python",
      "name": "python",
      "nbconvert_exporter": "python",
      "pygments_lexer": "ipython3",
      "version": "3.11.11"
    }
  },
  "nbformat": 4,
  "nbformat_minor": 0
}