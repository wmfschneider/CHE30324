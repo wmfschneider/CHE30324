{
 "cells": [
  {
   "cell_type": "markdown",
   "metadata": {},
   "source": [
    "# Chem 30324, Spring 2025, Homework 7\n",
    "\n",
    "# Due March 29, 2025"
   ]
  },
  {
   "cell_type": "markdown",
   "metadata": {},
   "source": [
    "## Many-electrons means many troubles\n",
    "### Helium (He) is only one electron larger than hydrogen, but that one more electron makes a big difference in difficulty in setting up and solving the Schrödinger equation."
   ]
  },
  {
   "cell_type": "markdown",
   "metadata": {
    "tags": []
   },
   "source": [
    "### 1. Write down in as much detail as you can the Schrödinger equation for the electrons in a He atom. Can your differential equation be solved in closed form?"
   ]
  },
  {
   "cell_type": "markdown",
   "metadata": {
    "tags": []
   },
   "source": [
    "### 2. \"Density functional theory\" offers an alternative strategy for describing this \"many electron\" system. What is the density in density functional theory? Provide an equation."
   ]
  },
  {
   "cell_type": "markdown",
   "metadata": {
    "jp-MarkdownHeadingCollapsed": true,
    "tags": []
   },
   "source": [
    "### 3. The DFT equation has five terms, or operators, on the left. Identify the physical meaning of each term and the sign of the expectation value when it is applied to one of the solutions.\n",
    "\n",
    "$$\\left\\{-\\frac{1}{2}\\nabla^2 - \\frac{2}{r} + \\hat v_\\mathrm{Coul}[\\rho] + \\hat\n",
    "            v_\\mathrm{ex}[\\rho]+\\hat v_\\mathrm{corr}[\\rho] \\right\\}\\psi=\\epsilon\\psi$$"
   ]
  },
  {
   "cell_type": "markdown",
   "metadata": {},
   "source": [
    "###  4. Briefly, what does it mean to solve this equation \"self-consistently\"?"
   ]
  },
  {
   "cell_type": "markdown",
   "metadata": {},
   "source": [
    "### Sophisticated computer programs that solve the DFT equation are now widely available and powerful tool for predicting the properties of atoms, molecules, solids, and interfaces. In this problem you’ll do a DFT calculation using the *Orca* program (<https://www.its.hku.hk/services/research/hpc/software/orca>)."
   ]
  },
  {
   "cell_type": "markdown",
   "metadata": {},
   "source": [
    "### Now, let’s set up your calculation (you may do this with a partner or two if you choose):\n",
    "1. Log into the Webmo server https://www.webmo.net/demoserver/cgi-bin/webmo/login.cgi using \"guest\" as your username and password.\n",
    "2. Select New Job-Creat New Job.\n",
    "3. Use the available tools to draw an atom on the screen.\n",
    "4. Use the right arrow at the bottom to proceed to the Computational Engines.\n",
    "5. Choose Orca\n",
    "6. Select “Molecular Orbitals” for the Calculation type, “PBE” for theory, “def2-SVP” for the basis set, “0” for the charge, an appropriate value for the \"Multiplicity\", and check “Unrestricted.” \n",
    "7. Select the right arrow to run the calculation.\n",
    "8. From the job manager window choose the completed calculation to view the results.\n",
    "9. For fun, click on the Magnifying Glass icons to see the molecular orbitals in 3-D. You may have to play around with the Display Settings and Preferences to get good views."
   ]
  },
  {
   "cell_type": "markdown",
   "metadata": {},
   "source": [
    "### 5. Perform calculations across the first row of the periodic table (B, C, N, O, F, Ne).  Make a table of energies of the occupied orbitals and identify them by their shell ( $n = 1, 2, \\ldots$) and subshell (s, p, d, ...). "
   ]
  },
  {
   "cell_type": "markdown",
   "metadata": {},
   "source": [
    "### 6. Contrast the energies of the 1s electrons across the series.  Determine the wavelength of light necessary to remove each 1s electron. What range of the spectrum is this light in?"
   ]
  },
  {
   "cell_type": "markdown",
   "metadata": {},
   "source": [
    "### 7. Why, qualitatively, do the energies vary as they do?"
   ]
  },
  {
   "cell_type": "markdown",
   "metadata": {},
   "source": [
    "### 8. Compare the energies of the highest-energy (valence) electrons across the series. Determine the wavelength of light necessary to remove each valence electron. What range of the spectrum is this light in?"
   ]
  },
  {
   "cell_type": "markdown",
   "metadata": {},
   "source": [
    "### 9. Why, qualitatively, do the energies vary as they do?"
   ]
  },
  {
   "cell_type": "markdown",
   "metadata": {},
   "source": [
    "## Chemical bonding\n",
    "### The electron wavefunctions (molecular orbitals) in molecules can be thought of as coming from combinations of atomic orbitals on the constituent atoms. One of the factors that determines whether two atomic orbitals  form a bond is there ability to overlap. Consider two atoms, A and B, aligned on the z axis and separated by a distance $R$."
   ]
  },
  {
   "cell_type": "markdown",
   "metadata": {},
   "source": [
    "### 10. The overlap between two 1s orbitals on A and B can be shown to be: $$S = \\left \\{1+\\frac{R}{a_0}+\\frac{1}{3}\\left (\\frac{R}{a_0}\\right )^2\\right \\}e^{-R/a_0}$$ Plot out the overlap as a function of the internuclear distance $R$. Qualitatively explain why it has the shape it has."
   ]
  },
  {
   "cell_type": "markdown",
   "metadata": {},
   "source": [
    "### 11. The overlap functions for other pairs of orbitals are more complicated, but the general features are easily inferred. Neatly sketch the orbital overlap between a 1s orbital on A and 2p$_z$ orbital on B as a function $R$. Carefully indicate the limiting values as $R \\rightarrow 0$ and $R \\rightarrow \\infty$."
   ]
  },
  {
   "cell_type": "markdown",
   "metadata": {},
   "source": [
    "### 12. Choose some other pair of atomic orbitals on A and B and sketch out their overlap as a function of $R$. Carefully indicate the limiting values as  $ R \\rightarrow 0$  and  $ R\\rightarrow \\infty$."
   ]
  },
  {
   "cell_type": "markdown",
   "metadata": {},
   "source": [
    "### 13. What property besides overlap determines whether two atomic orbitals will form a bond?"
   ]
  },
  {
   "cell_type": "markdown",
   "metadata": {},
   "source": [
    "### 14. For each pair, draw a Lewis dot structure. Indicate which bond is stronger in the pair, and give a very brief rationalization: \n",
    "\n",
    "#### (a) H$_2$ vs LiH \n",
    "#### (b) N$_2$ vs H$_2$\n",
    "#### (c) N$_2$ vs CO\n",
    "#### (d) H$_2$ vs He$_2$"
   ]
  }
 ],
 "metadata": {
  "anaconda-cloud": {},
  "kernelspec": {
   "display_name": "Python [conda env:base] *",
   "language": "python",
   "name": "conda-base-py"
  },
  "language_info": {
   "codemirror_mode": {
    "name": "ipython",
    "version": 3
   },
   "file_extension": ".py",
   "mimetype": "text/x-python",
   "name": "python",
   "nbconvert_exporter": "python",
   "pygments_lexer": "ipython3",
   "version": "3.11.11"
  }
 },
 "nbformat": 4,
 "nbformat_minor": 4
}
