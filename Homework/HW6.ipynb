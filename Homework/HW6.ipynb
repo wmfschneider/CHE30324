{
 "cells": [
  {
   "cell_type": "markdown",
   "metadata": {
    "ein.tags": "worksheet-0",
    "slideshow": {
     "slide_type": "-"
    }
   },
   "source": [
    "# Chem 30324, Spring 2025, Homework 6\n",
    "\n",
    "# Due March 7, 2025"
   ]
  },
  {
   "cell_type": "markdown",
   "metadata": {
    "ein.tags": "worksheet-0",
    "slideshow": {
     "slide_type": "-"
    }
   },
   "source": [
    "### The diatomic nitric oxide (NO) is an unusual and important molecule. It has an odd number of electrons, which is a rarity for stable molecule. It acts as a signaling molecule in the body, helping to regulate blood pressure, is a primary pollutant from combustion, and is a key constituent of smog. It exists in several isotopic forms, but the most common, ${}^{14}$N= ${}^{16}$O, has a bond length of 1.15077 Å and harmonic vibrational frequency of 1904 cm$^{-1}$."
   ]
  },
  {
   "cell_type": "markdown",
   "metadata": {},
   "source": [
    "## Statistical mechanics of vibrating NO"
   ]
  },
  {
   "cell_type": "markdown",
   "metadata": {},
   "source": [
    "#### 1. Using your knowledge of the harmonic oscillator and the Boltzmann distribution, complete the table below for the first four harmonic vibrational states of $^{14}$N=$^{16}$O."
   ]
  },
  {
   "cell_type": "markdown",
   "metadata": {},
   "source": [
    "|Quantum number|Energy (kJ/mol)| Relative population at 400 K| Relative population at 410 K |\n",
    "|--------------|---------------|-----------------------------|----------|\n",
    "| $v=0$ | | | |\n",
    "|  $v = 1$ |   |   |  | \n",
    "| $v=2$ | | | |\n",
    "| $v=3$ | | | |"
   ]
  },
  {
   "cell_type": "markdown",
   "metadata": {},
   "source": [
    "#### 2. Use the table to estimate the average vibrational energy of a mole of $^{14}$N=$^{16}$O at 400 and 410 K."
   ]
  },
  {
   "cell_type": "markdown",
   "metadata": {},
   "source": [
    "#### 3. Use your answer to Question 2 to estimate the vibrational heat capacity ($dE/dT$) of a mole of $^{14}$N=$^{16}$O in this temperature range. How does your answer compare to the classical estimate, 8.314 J/mol K?"
   ]
  },
  {
   "cell_type": "markdown",
   "metadata": {},
   "source": [
    "#### 4. Predict the harmonic vibrational frequency of the heavier cousin of $^{14}$N=$^{16}$O, $^{15}$N=$^{18}$O, in cm$^{-1}$. Assume the force constant is independent of isotope. Do you think these two isotopes could be distinguished using infrared spectroscopy?"
   ]
  },
  {
   "cell_type": "markdown",
   "metadata": {
    "tags": []
   },
   "source": [
    "## Spin the NO."
   ]
  },
  {
   "cell_type": "markdown",
   "metadata": {
    "ein.tags": "worksheet-0",
    "slideshow": {
     "slide_type": "-"
    }
   },
   "source": [
    "#### 5. Calculate the moment of inertia of ${}^{14}$N=${}^{16}$O, in amu Å$^2$, the rotational energy constant, $B=\\hbar^2/2I$, in kJ mol$^{-1}$, and the rotational spectral constant, $\\tilde{B}=B/hc$,  in cm$^{-1}$."
   ]
  },
  {
   "cell_type": "markdown",
   "metadata": {
    "ein.tags": "worksheet-0",
    "slideshow": {
     "slide_type": "-"
    }
   },
   "source": [
    "#### 6. Imagine that the ${}^{14}$N=${}^{16}$O molecule is adsorbed flat on a surface upon which it is free to rotate. Plot out the energies of the four lowest-energy rotational quantum states, in units of $B$, being sure to include appropriate quantum numbers and degeneracies. Also indicate the total rotational angular moment of each state, in units of $\\hbar$."
   ]
  },
  {
   "cell_type": "markdown",
   "metadata": {},
   "source": [
    "#### 7. Now imagine the ${}^{14}$N=${}^{16}$O molecule is free to rotate in three-dimensional space. As in Question 6, plot out the energies of the four lowest-energy rotational quantum states, in units of $B$, being sure to include appropriate quantum numbers and degeneracies. Also indicate the total rotational angular moment of each state, in units of $\\hbar$."
   ]
  },
  {
   "cell_type": "markdown",
   "metadata": {},
   "source": [
    "#### 8. Use the vector model to sketch the total angular momentum vectors consistent with $l = 1$."
   ]
  },
  {
   "cell_type": "markdown",
   "metadata": {},
   "source": [
    "#### 9. The gross and specific rotational spectroscopy selection rules are that a molecule must have a dipole and that $\\Delta l = \\pm 1$, respectively. Will ${}^{14}$N=${}^{16}$O have a rotational spectrum? If so, what will it look like, and why?"
   ]
  },
  {
   "cell_type": "markdown",
   "metadata": {
    "tags": []
   },
   "source": [
    "## Quantum mechanics of an H atom: \n",
    "### Consider an excited hydrogen atom with a 2s$^1$ electron configuration. The 2s radial wavefunction is given by $$R_{2,0} = \\frac{1}{\\sqrt{2a_0^3}}(1-\\rho/2)e^{-\\rho/2}, \\rho = r/a_0$$ where $a_0$ = bohr radius. (*Hint:* It’s easiest to solve the following using $a_0$ as the unit of length.)"
   ]
  },
  {
   "cell_type": "markdown",
   "metadata": {},
   "source": [
    "#### 10. Provide a complete set of possible quantum numbers for an electron with the 2s wavefunction."
   ]
  },
  {
   "cell_type": "markdown",
   "metadata": {},
   "source": [
    "#### 11. Provide a hand sketch of the 3-D shape of a 2s wavefunction (“orbital”). Be sure to indicate the *sign* of the wavefunction in each region and the location(s) of nodes. How many radial and how many angular nodes does a 2s wavefunction have?"
   ]
  },
  {
   "cell_type": "markdown",
   "metadata": {},
   "source": [
    "#### 12. Plot the radial probability function $P_{20}(r) = r^2\\lvert R_{2,0}(r)\\rvert^2$. Be sure to label both axes appropriately. (*Hint:* Stick with $a_0$ as the length unit.)"
   ]
  },
  {
   "cell_type": "markdown",
   "metadata": {},
   "source": [
    "#### 13. Determine and indicate on your plot $\\langle r\\rangle$, the expectation value of the distance of the electron from the nucleus. (*Hint*: the course outline gives an expression for this expectation value.)"
   ]
  },
  {
   "cell_type": "markdown",
   "metadata": {},
   "source": [
    "#### 14. Determine and indicate on your plot  $r_{MP}$, the most probable distance of the electron from the nucleus."
   ]
  },
  {
   "cell_type": "markdown",
   "metadata": {
    "tags": []
   },
   "source": [
    "#### 15. Determine and indicate on your plot the maximum classical distance of the electron from the nucleus in this orbital."
   ]
  },
  {
   "cell_type": "markdown",
   "metadata": {},
   "source": [
    "#### 16. (*Extra credit*) What is the probability of finding the electron beyond the classical distance? (Evaluate the necessary integral numerically.)"
   ]
  },
  {
   "cell_type": "markdown",
   "metadata": {},
   "source": [
    "#### 17. Can a 2s electron undergo an allowed transition to a lower energy electronic state? If so, what frequency (in cm$^{-1}$) of light would be emitted?"
   ]
  }
 ],
 "metadata": {
  "anaconda-cloud": null,
  "kernelspec": {
   "display_name": "Python [conda env:base] *",
   "language": "python",
   "name": "conda-base-py"
  },
  "language_info": {
   "codemirror_mode": {
    "name": "ipython",
    "version": 3
   },
   "file_extension": ".py",
   "mimetype": "text/x-python",
   "name": "python",
   "nbconvert_exporter": "python",
   "pygments_lexer": "ipython3",
   "version": "3.11.11"
  },
  "name": "HW6.ipynb"
 },
 "nbformat": 4,
 "nbformat_minor": 4
}
