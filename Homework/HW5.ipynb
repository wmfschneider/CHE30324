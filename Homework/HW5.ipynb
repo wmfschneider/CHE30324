{
 "cells": [
  {
   "cell_type": "markdown",
   "metadata": {
    "id": "JnemmWSXMRCU"
   },
   "source": [
    "# Chem 30324, Spring 2025, Homework 5\n",
    "# Due February 28, 2025"
   ]
  },
  {
   "cell_type": "markdown",
   "metadata": {
    "id": "_is6WyUPMRCW"
   },
   "source": [
    "## Real-world particle-in-a-box.\n",
    "### A one-dimensional particle-in-a-box is a simple but plausible model for the π electrons of a conjugated alkene, like butadiene ($C_4H_6$, shown here). Suppose all the C–C bonds in a polyene are 1.4 Å long and the polyenes are perfectly linear.\n",
    "<img src=\"./imgs/HW5-1.png\">"
   ]
  },
  {
   "cell_type": "markdown",
   "metadata": {
    "id": "Vj-UxLM5MRCX"
   },
   "source": [
    "### 1. Plot out the normalized $n = 2$ particle-in-a-box wavefunction for an electron in butadiene and the normalized $n = 2$ probability distribution. Indicate on the plots the most probable location(s) of the electron, the average location of the electron, and the positions of any nodes."
   ]
  },
  {
   "cell_type": "markdown",
   "metadata": {
    "id": "275cFBg8MRCY"
   },
   "source": [
    "### 2. Butadiene has 4 π electrons, and we will learn later that in its lowest energy state, two of these are in the $n = 1$ and two in the $n = 2$ levels. Compare the wavelength of light (in nm) necessary to promote (“excite”) one electron from either of these levels to the empty $n = 3$ level."
   ]
  },
  {
   "cell_type": "markdown",
   "metadata": {
    "id": "d3xkI6nGMRCY"
   },
   "source": [
    "### 3. The probability of an electron jumping between two energy states by emitting or absorbing light is proportional to the square of the “transition dipole,” given by the integral $\\lvert\\langle\\psi_{initial}\\lvert \\hat{x}\\rvert\\psi_{final}\\rangle\\rvert^2$. Contrast the relative probabilities of an electron jumping from $n = 1$ to $n = 3$ and from $n = 2$ to $n = 3$ levels. Can you propose any general rules about “allowed” and \"forbidden\" jumps?"
   ]
  },
  {
   "cell_type": "markdown",
   "metadata": {
    "id": "oGKpsmWTMRCY"
   },
   "source": [
    "### 4. Consider the reaction of two ethylene molecules to form butadiene:\n",
    "<img src=\"./imgs/HW5-2.png\">"
   ]
  },
  {
   "cell_type": "markdown",
   "metadata": {
    "id": "0wSXPFjLMRCY"
   },
   "source": [
    "### 5. As a very simple estimate, you could take the energy of each molecule as the sum of the energies of its π electrons, allowing only two electrons per energy level. Again taking each C—C bond as 1.4 Å long and treating the π electrons as particles in a box, calculate the total energy of an ethylene and a butadiene molecule within this model (in kJ/mol), and from these calculate the net reaction energy. Compare your results to the experimental reaction enthalpy. How well did the model do?"
   ]
  },
  {
   "cell_type": "markdown",
   "metadata": {
    "id": "a1FiNAGyMRCZ"
   },
   "source": [
    "### 6. This particle-in-a-box model has many flaws, not the least of which is that the ends of the polyene “box” are not infinitely high potential walls. In a somewhat better model the π electrons would travel in a finite-depth potential well. State two things that would change from the infinite depth to the finite depth model."
   ]
  },
  {
   "cell_type": "markdown",
   "metadata": {},
   "source": [
    "## Really large box with a particle.\n",
    "### A gas molecule rattling around in a bottle can be described as a particle in a 3-dimensional box. Consider ethylene gas in a cubic “bottle” 1 dm on a side."
   ]
  },
  {
   "cell_type": "markdown",
   "metadata": {},
   "source": [
    "### 7. What is the particle-in-a-box “zero point energy” of one of these ethylene molecules, in kJ/mol? Is this energy of chemical significance?"
   ]
  },
  {
   "cell_type": "markdown",
   "metadata": {},
   "source": [
    "### 8. According to the kinetic theory of gases, the average kinetic energy of an ethylene molecule in any one direction is $k_B T/2$. What is the approximate value of $n_x$ of a gas molecule in this box and with this kinetic energy at 298 K?"
   ]
  },
  {
   "cell_type": "markdown",
   "metadata": {},
   "source": [
    "### 9. Suppose you can measure the average kinetic energy in a direction within 1 ppm. Estimate the number of $n_x$ within 1 ppm of $k_B T/2$ at 298 K (this is called a \"density of states\"). Do you have any hope of determining the exact value of $n_x$ for a particular molecule?"
   ]
  },
  {
   "cell_type": "markdown",
   "metadata": {
    "collapsed": true,
    "id": "mAnoRvBpMRCZ",
    "jupyter": {
     "outputs_hidden": true
    }
   },
   "source": [
    "## Quantum mechanics of vibrating NO.\n",
    "### The diatomic nitric oxide (NO) is an unusual and important molecule. It has an odd number of electrons, which is a rarity for stable molecule. It acts as a signaling molecule in the body, helping to regulate blood pressure, is a primary pollutant from combustion, and is a key constituent of smog. It exists in several isotopic forms, but the most common, ${}^{14}$N= ${}^{16}$O, has a bond length of 1.15077 Å and vibrational force constant of 1594.8 N/m."
   ]
  },
  {
   "cell_type": "markdown",
   "metadata": {
    "id": "ypYMx2IBMRCZ"
   },
   "source": [
    "### 10. Compute the **reduced mass** $\\mu$ (amu), **harmonic vibrational frequency** (cm$^{-1}$), and **zero point vibrational energy** (kJ/mol) of  ${}^{14}$N= ${}^{16}$O.  Recall $1/\\mu=1/M_\\text{N} + 1/M_\\text{O}$."
   ]
  },
  {
   "cell_type": "markdown",
   "metadata": {
    "id": "2pwPOWnaMRCZ"
   },
   "source": [
    "### 11. Calculate the classical minimum and maximum values of the $^{14}$N=$^{16}$O bond length for a molecule in the ground vibrational state. Hint: Calculate the classical limits on $x$, the value of $x$ at which the kinetic energy is 0 and thus the total energy equals the potential energy."
   ]
  },
  {
   "cell_type": "markdown",
   "metadata": {
    "id": "jer8aorAMRCZ",
    "jp-MarkdownHeadingCollapsed": true
   },
   "source": [
    "### 12. The normalized ground vibrational wavefunction of N=O can be written\n",
    "$$\\Psi_{\\upsilon=0}(x) = \\left ({\\frac{1}{\\alpha\\sqrt{\\pi}}}\\right )^{1/2}e^{-x^2/2\\alpha^2}, \\quad x = R-R_{eq}, \\quad \\alpha = \\left ({\\frac{\\hbar^2}{\\mu k}}\\right )^{1/4}$$\n",
    "### where $x = R-R_{eq}$.  Plot the normalized probability of $x$ vs $x$. Indicate on your plot the classical limits on $x$. Do the probabilities vanish beyond those classical limits? What do we call this behavior?"
   ]
  },
  {
   "cell_type": "markdown",
   "metadata": {
    "id": "BnZ2R088MRCa"
   },
   "source": [
    "### 13. The *general selection rule* for whether light can excite a vibration of a molecule is that the dipole moment of the molecule must change as it vibrates.  Based on this criterion, do you expect NO to exhibit an absorption vibrational spectrum?"
   ]
  },
  {
   "cell_type": "markdown",
   "metadata": {
    "id": "rjBO5PZ5MRCa"
   },
   "source": [
    "### 14. The *specific selection rule* for whether light can excite a vibration of a molecule is that $\\Delta v = \\pm 1$.  At ambient temperature, what initial and final vibrational states would contribute most significantly to an NO vibrational spectrum? Justify your answer. (*Hint:* What does the Boltzmann distribution say about the probability to be in each $\\nu$ state?)"
   ]
  },
  {
   "cell_type": "markdown",
   "metadata": {
    "id": "fawPeNuOMRCa"
   },
   "source": [
    "### 15. Based on your answers to questions 13 and 14, what do you expect the vibrational spectrum of an ${}^{14}N={}^{16}O$ molecule to look like? If it has a spectrum, in what region of the spectrum does it absorb (e.g., ultraviolet, x-ray, ...)?"
   ]
  },
  {
   "cell_type": "markdown",
   "metadata": {
    "id": "hb2noLRgMRCa"
   },
   "source": [
    "## Two-dimensional harmonic oscillator\n",
    "### Imagine an H atom embedded in a two-dimensional sheet of MoS$_2$.  The H atom vibrates like a two-dimensional harmonic oscillator with mass 1 amu and force constants $k_x$ and $k_y$ in the two directions."
   ]
  },
  {
   "cell_type": "markdown",
   "metadata": {
    "id": "zDiJfITJMRCa"
   },
   "source": [
    "### 16. Write down the Schr&ouml;dinger equation for the vibrating H atom. Remember to include any boundary conditions on the solutions."
   ]
  },
  {
   "cell_type": "markdown",
   "metadata": {
    "id": "VPbv4QiqMRCa"
   },
   "source": [
    "### 17. The  Schr&ouml;dinger equation is *seperable*, so the wavefunctions are products of one-dimensional wavefunctions and the eigenenergies are sums of corresponding one-dimensional energies.  Derive an expression for the H atom vibrational energy states, assuming $k_x = k_y/4 = k$."
   ]
  },
  {
   "cell_type": "markdown",
   "metadata": {
    "id": "lmT2WaOBMRCa"
   },
   "source": [
    "### 18. A spectroscopic experiment reveals that the spacing between the first and second energy levels is 0.05 eV. What is $k$, in N/m?"
   ]
  },
  {
   "cell_type": "markdown",
   "metadata": {
    "id": "cdySj43rMRCa"
   },
   "source": [
    "### 19. What are the *energies* and *degeneracies* of the four lowest-energy vibrational levels of the H atom?"
   ]
  }
 ],
 "metadata": {
  "anaconda-cloud": {},
  "colab": {
   "provenance": []
  },
  "kernelspec": {
   "display_name": "Python [conda env:base] *",
   "language": "python",
   "name": "conda-base-py"
  },
  "language_info": {
   "codemirror_mode": {
    "name": "ipython",
    "version": 3
   },
   "file_extension": ".py",
   "mimetype": "text/x-python",
   "name": "python",
   "nbconvert_exporter": "python",
   "pygments_lexer": "ipython3",
   "version": "3.11.11"
  }
 },
 "nbformat": 4,
 "nbformat_minor": 4
}
