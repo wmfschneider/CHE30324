{
 "cells": [
  {
   "cell_type": "markdown",
   "metadata": {
    "id": "vpWNlIpLW1Fn"
   },
   "source": [
    "# Chem 30324, Spring 2025, Homework 2\n",
    "## Due: January 31, 2025"
   ]
  },
  {
   "cell_type": "markdown",
   "metadata": {
    "id": "mr41M1F1W1Fr"
   },
   "source": [
    "## Problem 1. Gases on a table top"
   ]
  },
  {
   "cell_type": "markdown",
   "metadata": {
    "id": "Y1qyyBLlW1Fr"
   },
   "source": [
    "In class we derived the properties of a 3-dimensional gas from the Boltzmann distribution and three postulates, and you studied a 1-dimensional gas in Homework 1. Suppose you were interested instead in a 2-dimensional gas, for example gas molecules able to freely skate around on a surface but that couldn’t escape the surface."
   ]
  },
  {
   "cell_type": "markdown",
   "metadata": {
    "id": "4VokqYVFW1Fs"
   },
   "source": [
    "### 1. Derive the Maxwell-Boltzman speed distribution for a 2-dimensional gas. (*Hint*: Think polar coordinates.)"
   ]
  },
  {
   "cell_type": "markdown",
   "metadata": {
    "id": "mutoskE_eE62"
   },
   "source": [
    "In a one-dimensional plane, we know that\n",
    "\n",
    "\\begin{equation}\n",
    "P(v_x) \\, dv_x = \\left( \\frac{m}{2 \\pi k T} \\right)^{\\frac{1}{2}} \\exp \\left( - \\frac{1}{2} m \\frac{v_x^2}{kT} \\right) dv_x\n",
    "\\end{equation}\n",
    "\n",
    "From a Cartesian coordinate system, we have\n",
    "\n",
    "\\begin{equation}\n",
    "v^2 = v_x^2 + v_y^2\n",
    "\\end{equation}\n",
    "\n",
    "Thus, the joint probability distribution is given by:\n",
    "\n",
    "\\begin{equation}\n",
    "P(v_x, v_y) \\, dv_x dv_y = P(v_x) P(v_y) \\, dv_x dv_y\n",
    "\\end{equation}\n",
    "\n",
    "\\begin{equation}\n",
    "= \\frac{m}{\\pi kT} \\exp \\left( -m \\frac{v_x^2 + v_y^2}{2 kT} \\right) dv_x dv_y\n",
    "\\end{equation}\n",
    "\n",
    "We convert to a polar coordinate system ( dv(x)dv(y) = v dv d(theta)):\n",
    "\n",
    "\\begin{equation}\n",
    "P(v) = \\int_0^{2\\pi} \\frac{mv}{2 \\pi k T} \\exp \\left( - \\frac{m v^2}{2 kT} \\right) d\\theta\n",
    "\\end{equation}\n",
    "\n",
    "\\begin{equation}\n",
    "= 2\\pi v \\times \\frac{m}{2 \\pi kT} \\exp \\left( - \\frac{m v^2}{2 kT} \\right)\n",
    "\\end{equation}\n",
    "\n",
    "\\begin{equation}\n",
    "= \\frac{m v}{kT} \\exp \\left( - \\frac{m v^2}{2 kT} \\right)\n",
    "\\end{equation}"
   ]
  },
  {
   "cell_type": "markdown",
   "metadata": {
    "id": "1Ozbk-o1W1Fs"
   },
   "source": [
    "### 2. Plot this 2-dimensional speed distribution for O$_2$ molecules at 200, 400 and 600 K."
   ]
  },
  {
   "cell_type": "code",
   "execution_count": 2,
   "metadata": {
    "colab": {
     "base_uri": "https://localhost:8080/",
     "height": 472
    },
    "executionInfo": {
     "elapsed": 420,
     "status": "ok",
     "timestamp": 1738273313014,
     "user": {
      "displayName": "Steven Yeo",
      "userId": "08814694878038742139"
     },
     "user_tz": 300
    },
    "id": "2eL-eEpbfsyd",
    "outputId": "f141436c-95d5-4680-d5ae-50e95da071da"
   },
   "outputs": [
    {
     "ename": "NameError",
     "evalue": "name 'np' is not defined",
     "output_type": "error",
     "traceback": [
      "\u001b[0;31m---------------------------------------------------------------------------\u001b[0m",
      "\u001b[0;31mNameError\u001b[0m                                 Traceback (most recent call last)",
      "Cell \u001b[0;32mIn[2], line 12\u001b[0m\n\u001b[1;32m      9\u001b[0m     \u001b[38;5;28;01mreturn\u001b[39;00m v \u001b[38;5;241m*\u001b[39m (m \u001b[38;5;241m/\u001b[39m (T \u001b[38;5;241m*\u001b[39m k)) \u001b[38;5;241m*\u001b[39m np\u001b[38;5;241m.\u001b[39mexp(\u001b[38;5;241m-\u001b[39mm \u001b[38;5;241m*\u001b[39m v \u001b[38;5;241m*\u001b[39m v \u001b[38;5;241m/\u001b[39m (\u001b[38;5;241m2\u001b[39m \u001b[38;5;241m*\u001b[39m k \u001b[38;5;241m*\u001b[39m T))\n\u001b[1;32m     11\u001b[0m \u001b[38;5;66;03m# Generate velocity values\u001b[39;00m\n\u001b[0;32m---> 12\u001b[0m v \u001b[38;5;241m=\u001b[39m np\u001b[38;5;241m.\u001b[39mlinspace(\u001b[38;5;241m0\u001b[39m, \u001b[38;5;241m1500\u001b[39m, \u001b[38;5;241m1000\u001b[39m)\n\u001b[1;32m     14\u001b[0m \u001b[38;5;66;03m# Plot for different temperatures\u001b[39;00m\n\u001b[1;32m     15\u001b[0m plt\u001b[38;5;241m.\u001b[39mfigure()\n",
      "\u001b[0;31mNameError\u001b[0m: name 'np' is not defined"
     ]
    }
   ],
   "source": [
    "# Constants\n",
    "import matplotlib.pyplot as plt\n",
    "\n",
    "m = 32 * 1.6605e-27  # kg (assuming Oxygen molecule O2)\n",
    "k = 1.38e-23  # J/K\n",
    "\n",
    "# Function defining Maxwell-Boltzmann speed distribution in 2D\n",
    "def Probability(v, T):\n",
    "    return v * (m / (T * k)) * np.exp(-m * v * v / (2 * k * T))\n",
    "\n",
    "# Generate velocity values\n",
    "v = np.linspace(0, 1500, 1000)\n",
    "\n",
    "# Plot for different temperatures\n",
    "plt.figure()\n",
    "for T in [200, 400, 600]:\n",
    "    Prol = Probability(v, T)\n",
    "    plt.plot(v, Prol, label='{} K'.format(T))\n",
    "\n",
    "# Labels and legend\n",
    "plt.legend()\n",
    "plt.xlabel('Speed (m/s)')\n",
    "plt.ylabel('Probability')\n",
    "plt.title('Maxwell-Boltzmann Speed Distribution in 2D')\n",
    "\n",
    "plt.show()"
   ]
  },
  {
   "cell_type": "markdown",
   "metadata": {
    "id": "2h1pmPWPW1Fs"
   },
   "source": [
    "### 3. Calculate the mean (expected value) of the speed of a 2-dimensional gas of molecules. How does your answer compare to a 3-dimensional gas?"
   ]
  },
  {
   "cell_type": "markdown",
   "metadata": {
    "id": "DKAsU8qff8y-"
   },
   "source": [
    "From class, we have\n",
    "\n",
    "\\begin{equation}\n",
    "\\langle v \\rangle = \\int_{0}^{\\infty} P(v) \\cdot v \\, dv\n",
    "\\end{equation}\n",
    "\n",
    "We plug into the equation to get \\( \\langle v \\rangle \\), which is the mean velocity:\n",
    "\n",
    "\\begin{equation}\n",
    "\\langle v \\rangle = \\int_{0}^{\\infty} \\frac{v^2 m}{kT} \\exp \\left( - \\frac{m v^2}{2 kT} \\right) dv\n",
    "\\end{equation}\n",
    "\n",
    "Using a substitution,\n",
    "\n",
    "\\begin{equation}\n",
    "u^2 = \\frac{m v^2}{2 kT}\n",
    "\\end{equation}\n",
    "\n",
    "\\begin{equation}\n",
    "2 u \\, du = \\frac{m v}{kT} dv\n",
    "\\end{equation}\n",
    "\n",
    "\\begin{equation}\n",
    "dv = \\frac{kT}{m v} \\cdot 2 u \\, du\n",
    "\\end{equation}\n",
    "\n",
    "Substituting, we obtain:\n",
    "\n",
    "\\begin{equation}\n",
    "\\langle v \\rangle = \\int_{0}^{\\infty} \\frac{v^2 m}{kT} \\exp(-u^2) \\cdot \\frac{kT}{m v} \\cdot 2 u \\, du\n",
    "\\end{equation}\n",
    "\n",
    "Simplifying, it becomes:\n",
    "\n",
    "\\begin{equation}\n",
    "\\langle v \\rangle = \\int_{0}^{\\infty} 2 u v \\cdot u \\exp(-u^2) \\, du\n",
    "\\end{equation}\n",
    "\n",
    "Since\n",
    "\n",
    "\\begin{equation}\n",
    "v = u \\left( \\frac{2 k T}{m} \\right)^{\\frac{1}{2}}\n",
    "\\end{equation}\n",
    "\n",
    "we substitute:\n",
    "\n",
    "\\begin{equation}\n",
    "\\langle v \\rangle = \\left( \\frac{2 k T}{m} \\right)^{\\frac{1}{2}} \\int_{0}^{\\infty} 2 u^2 \\exp(-u^2) \\, du\n",
    "\\end{equation}\n",
    "\n",
    "Since\n",
    "\n",
    "\\begin{equation}\n",
    "\\int_{0}^{\\infty} 2 u^2 \\exp(-u^2) \\, du = \\frac{\\sqrt{\\pi}}{2}\n",
    "\\end{equation}\n",
    "\n",
    "we obtain:\n",
    "\n",
    "\\begin{equation}\n",
    "\\langle v \\rangle = \\left( \\frac{\\pi k T}{2 m} \\right)^{\\frac{1}{2}}\n",
    "\\end{equation}"
   ]
  },
  {
   "cell_type": "markdown",
   "metadata": {
    "id": "TRsMHvqQgeBJ"
   },
   "source": [
    "compared to the square root of the 3-D gas, they are all dependent on the square root of T/m. it's expected to be bigger in 3-dimensions"
   ]
  },
  {
   "cell_type": "markdown",
   "metadata": {
    "id": "On4xKmT1W1Ft"
   },
   "source": [
    "### 4. Calculate the mean kinetic energy of a 2-dimensional gas. How does your answer compare to a one and 3-dimensional gas?"
   ]
  },
  {
   "cell_type": "markdown",
   "metadata": {
    "id": "VP-sf9WZg2e7"
   },
   "source": [
    "\\begin{equation}\n",
    "\\langle v^2 \\rangle = \\int_{0}^{\\infty} \\frac{v^2 m}{kT} \\exp \\left( - \\frac{m v^2}{2 kT} \\right) v \\, dv\n",
    "\\end{equation}\n",
    "\n",
    "\\begin{equation}\n",
    "\\langle \\epsilon \\rangle = \\left\\langle \\frac{1}{2} m v^2 \\right\\rangle = \\frac{1}{2} m \\langle v^2 \\rangle = \\frac{1}{2} m \\int_{0}^{\\infty} \\frac{v^3 m}{kT} \\exp \\left( - \\frac{m v^2}{2 kT} \\right) dv\n",
    "\\end{equation}\n",
    "\n",
    "\\begin{equation}\n",
    "\\langle \\epsilon \\rangle = \\frac{1}{2} \\int_{0}^{\\infty} \\frac{v^3 m^2}{kT} \\exp \\left( - \\frac{m v^2}{2 kT} \\right) dv\n",
    "\\end{equation}\n",
    "\n",
    "Using a substitution,\n",
    "\n",
    "\\begin{equation}\n",
    "u^2 = \\frac{m v^2}{2 kT}\n",
    "\\end{equation}\n",
    "\n",
    "\\begin{equation}\n",
    "2u \\, du = \\frac{m v}{kT} dv\n",
    "\\end{equation}\n",
    "\n",
    "\\begin{equation}\n",
    "dv = \\frac{kT}{m v} \\cdot 2 u \\, du\n",
    "\\end{equation}\n",
    "\n",
    "Substituting, we obtain:\n",
    "\n",
    "\\begin{equation}\n",
    "\\langle \\epsilon \\rangle = \\frac{1}{2} \\int_{0}^{\\infty} \\frac{v^3 m^2}{kT} \\exp(-u^2) \\frac{kT}{m v} \\cdot 2 u \\, du\n",
    "\\end{equation}\n",
    "\n",
    "\\begin{equation}\n",
    "\\langle \\epsilon \\rangle = m \\int_{0}^{\\infty} v^2 \\exp(-u^2) \\cdot u \\, du\n",
    "\\end{equation}\n",
    "\n",
    "\\begin{equation}\n",
    "\\langle \\epsilon \\rangle = m \\int_{0}^{\\infty} \\frac{u^2 2 kT}{m} \\exp(-u^2) \\cdot u \\, du\n",
    "\\end{equation}\n",
    "\n",
    "\\begin{equation}\n",
    "\\langle \\epsilon \\rangle = 2 kT \\int_{0}^{\\infty} u^2 \\exp(-u^2) \\cdot u \\, du\n",
    "\\end{equation}\n",
    "\n",
    "\\begin{equation}\n",
    "\\int_{0}^{\\infty} u^2 \\exp(-u^2) \\cdot u \\, du = \\frac{1}{2}\n",
    "\\end{equation}\n",
    "\n",
    "\\begin{equation}\n",
    "\\langle \\epsilon \\rangle = 1.0 \\, kT\n",
    "\\end{equation}"
   ]
  },
  {
   "cell_type": "markdown",
   "metadata": {
    "id": "L7SUeMdRW1Ft"
   },
   "source": [
    "## Problem 2. (Kinetics and Transport)"
   ]
  },
  {
   "cell_type": "markdown",
   "metadata": {
    "id": "HQ6RUOjmW1Fu"
   },
   "source": [
    "In junior Chemical Engineering laboratory, you might study the diffusion and solubility of CO$_2$ in an organic solvent using a diffusion cell like the one sketched here. <img src=\"imgs/HW2_P2.png\">Let’s suppose that the gas space at the top of the diffusion cell is approximately 2 cm high and 4 cm in diameter. Further suppose that the gas in the head of the cell is pure CO$_2$ at 298 K and 1 bar pressure. Note that CO$_2$ has a collision diameter d of 0.40 nm."
   ]
  },
  {
   "cell_type": "code",
   "execution_count": 3,
   "metadata": {
    "executionInfo": {
     "elapsed": 135,
     "status": "ok",
     "timestamp": 1738271672841,
     "user": {
      "displayName": "Steven Yeo",
      "userId": "08814694878038742139"
     },
     "user_tz": 300
    },
    "id": "4B1WuREltvZU"
   },
   "outputs": [],
   "source": [
    "import numpy as np\n",
    "m = 44*1.6605e-27 # [=] kg\n",
    "k = 1.38065e-23 # [=] J/K\n",
    "T = 298 # [=] K\n",
    "d = 0.4e-9 # [=]\n",
    "p = 1e5 # [=] Pa"
   ]
  },
  {
   "cell_type": "markdown",
   "metadata": {
    "id": "EISBhG8JW1Fu"
   },
   "source": [
    "### 5. What does gas kinetic theory predict for the gas self-diffusion constant\n",
    "\n",
    "---\n",
    "\n",
    "$D_{11}$ of CO$_2$ gas in the cell, in cm$^2$s$^{−1}$?"
   ]
  },
  {
   "cell_type": "code",
   "execution_count": 4,
   "metadata": {
    "colab": {
     "base_uri": "https://localhost:8080/"
    },
    "executionInfo": {
     "elapsed": 89,
     "status": "ok",
     "timestamp": 1738271673666,
     "user": {
      "displayName": "Steven Yeo",
      "userId": "08814694878038742139"
     },
     "user_tz": 300
    },
    "id": "hQSfDbG_sgut",
    "outputId": "1e8b48ab-e995-463a-c6f1-e067dc56f3e7"
   },
   "outputs": [
    {
     "name": "stdout",
     "output_type": "stream",
     "text": [
      "The self diffustion constant in a gas phase is: 0.0731 cm^2/s\n"
     ]
    }
   ],
   "source": [
    "# first, we need to get mean speed\n",
    "v = (8*k*T/(np.pi*m))**0.5 # [=] m/s\n",
    "sigma = np.pi*d**2\n",
    "# mean free path\n",
    "l = k*T/p*(1/(2**0.5*sigma))\n",
    "D11 = 1/3*l*v*10000 # [=] cm^2/s (10000 is factor to convert m^2 to cm^2)\n",
    "# 1/3 is a dimensionality of the space in which diffusion occurs\n",
    "# if we consider 2D, then it should be 1/2\n",
    "print(f'The self diffustion constant in a gas phase is: {D11:.3} cm^2/s')"
   ]
  },
  {
   "cell_type": "code",
   "execution_count": 5,
   "metadata": {
    "colab": {
     "base_uri": "https://localhost:8080/"
    },
    "executionInfo": {
     "elapsed": 2,
     "status": "ok",
     "timestamp": 1738271673953,
     "user": {
      "displayName": "Steven Yeo",
      "userId": "08814694878038742139"
     },
     "user_tz": 300
    },
    "id": "Rt1VLK0RBnaE",
    "outputId": "23fffc9d-4d88-44ec-bb67-eaf7faf50206"
   },
   "outputs": [
    {
     "name": "stdout",
     "output_type": "stream",
     "text": [
      "5.7878198926076236e-08\n"
     ]
    }
   ],
   "source": [
    "print(l)"
   ]
  },
  {
   "cell_type": "markdown",
   "metadata": {
    "id": "uURZQ5-1W1Fu"
   },
   "source": [
    "### 6. Use the Stokes-Einstein relationship to estimate the diffusion constant of CO$_2$ in the organic solvent (take it to be Stoddard solvent, a relatively high molecular weight petroleum distillate).  How does this compare with the diffusion constant in the gas phase? Why?"
   ]
  },
  {
   "cell_type": "code",
   "execution_count": 6,
   "metadata": {
    "colab": {
     "base_uri": "https://localhost:8080/"
    },
    "executionInfo": {
     "elapsed": 128,
     "status": "ok",
     "timestamp": 1738272710222,
     "user": {
      "displayName": "Steven Yeo",
      "userId": "08814694878038742139"
     },
     "user_tz": 300
    },
    "id": "EWB6c-l4yZsB",
    "outputId": "c08cbdf1-fecf-4062-95a4-edae019e9fec"
   },
   "outputs": [
    {
     "name": "stdout",
     "output_type": "stream",
     "text": [
      "The diffusion constant in the organic solvent is: 1.64e-05 cm^2/s\n",
      "The diffusion constant in the solvent is much smaller than the self diffusion constant in a gas phase \n",
      "because there are additional interactions hindering the movement of solute particles.\n"
     ]
    }
   ],
   "source": [
    "r = d/2\n",
    "eta = 1e-3 # the general value of dynamic viscosity for the Stoddard solvent\n",
    "D_stoddard = k*T/(4*np.pi*eta*r)*10000\n",
    "# D_stoddard is mentioned in lecture 3. Transport - Slip Boundary\n",
    "print(f'The diffusion constant in the organic solvent is: {D_stoddard:.3} cm^2/s')\n",
    "print('The diffusion constant in the solvent is much smaller than the self diffusion constant in a gas phase \\nbecause there are additional interactions hindering the movement of solute particles.')"
   ]
  },
  {
   "cell_type": "markdown",
   "metadata": {
    "id": "PfUsEbm3W1Fu"
   },
   "source": [
    "### 7. We found in class that the probability for a molecule to diffuse a distance $x$ in time $t$ is Gaussian with mean 0 and standard deviation $\\sigma = \\sqrt{2D_{11}t}$. About how long will it take for 1/3 of the molecules starting at the center of the gas space to diffuse all the way to the surface of the liquid, i.e., > 1 cm?"
   ]
  },
  {
   "cell_type": "code",
   "execution_count": 7,
   "metadata": {
    "colab": {
     "base_uri": "https://localhost:8080/"
    },
    "executionInfo": {
     "elapsed": 136,
     "status": "ok",
     "timestamp": 1738271675295,
     "user": {
      "displayName": "Steven Yeo",
      "userId": "08814694878038742139"
     },
     "user_tz": 300
    },
    "id": "jVjYeC_H0Ry7",
    "outputId": "23be7174-57b3-4646-ed91-697b97c744f2"
   },
   "outputs": [
    {
     "name": "stdout",
     "output_type": "stream",
     "text": [
      "36.9 sec^-1\n"
     ]
    }
   ],
   "source": [
    "from scipy.stats import norm\n",
    "\n",
    "y = norm.ppf(2/3) # ppf calculates the percent point function (PPF) and y is a probability\n",
    "# The probability that a molecule has moved a distance  x > 1  cm is 1/3.\n",
    "# That means the probability that a molecule has moved a distance  x =< 1  cm is 2/3 in the gas phase. Why we have to consider still gas phase because we are\n",
    "# going to use D11, which is the self diffusion constant in the gas phase.\n",
    "# However, this probability is from a standard normal distribution, which has a mean of 0 and standard deviation of 1, so we have to scale\n",
    "# In our case, the distance  x  is scaled by  sigma , so we use:\n",
    "# x = sigma*y and we know x = 1cm in our system (distance between the center of gas phase and the surface of the solvent)\n",
    "sigma = 1/y\n",
    "\n",
    "t = (sigma**2)/(2*D11) # D11 is from Q5. self diffusion constant\n",
    "print(f'{t:.3} sec^-1')"
   ]
  },
  {
   "cell_type": "markdown",
   "metadata": {
    "id": "z43X2O7lW1Fv"
   },
   "source": [
    "### 8. How many collisions on average does one of these diffusing CO$_2$ molecule make with other gas molecules on the way from the middle of the vapor space to the surface of the solvent?"
   ]
  },
  {
   "cell_type": "code",
   "execution_count": 8,
   "metadata": {
    "colab": {
     "base_uri": "https://localhost:8080/"
    },
    "executionInfo": {
     "elapsed": 127,
     "status": "ok",
     "timestamp": 1738271676198,
     "user": {
      "displayName": "Steven Yeo",
      "userId": "08814694878038742139"
     },
     "user_tz": 300
    },
    "id": "dHi-U00W0SY7",
    "outputId": "b6bcdfeb-bc4e-4d5a-98bd-5d2500153d18"
   },
   "outputs": [
    {
     "name": "stdout",
     "output_type": "stream",
     "text": [
      "2.413551e+11\n"
     ]
    }
   ],
   "source": [
    "# in Lecture 2 - kinetic theory, we've talked about the mean free path, lamb = <v>/Z\n",
    "# then we can derive an equation to get Z. But Z here is per unit time, so we have to multiply by time (t) to get the number of collisions\n",
    "Num = (v/l)*t # v and l (lambda) are from Q.5\n",
    "print(\"{:e}\".format(Num))"
   ]
  },
  {
   "cell_type": "markdown",
   "metadata": {
    "id": "fh3TSyr-W1Fv"
   },
   "source": [
    "### 9. How far in total distance does this typical CO$_2$ molecule travel in the time it takes to reach the solvent surface from the middle of the cell?"
   ]
  },
  {
   "cell_type": "markdown",
   "metadata": {
    "id": "iv5u4nDuiP2m"
   },
   "source": [
    "You can look at either the average velocity times t\n",
    "\\begin{equation}\n",
    "<v>t\n",
    "\\end{equation}\n",
    "or the average distance between collisions times the total number of collisions\n",
    "\\begin{equation}\n",
    "\\lambda N_{col}\n",
    "\\end{equation}\n",
    "(Use dimensional analysis to make sure your units make sense)"
   ]
  },
  {
   "cell_type": "code",
   "execution_count": 9,
   "metadata": {
    "colab": {
     "base_uri": "https://localhost:8080/"
    },
    "executionInfo": {
     "elapsed": 91,
     "status": "ok",
     "timestamp": 1738271683558,
     "user": {
      "displayName": "Steven Yeo",
      "userId": "08814694878038742139"
     },
     "user_tz": 300
    },
    "id": "GvT-mXxRiRpN",
    "outputId": "f48476ea-3572-4e4e-dd29-1efbbacbb4b5"
   },
   "outputs": [
    {
     "name": "stdout",
     "output_type": "stream",
     "text": [
      "13969.19741424259 m\n",
      "13969.19741424259 m\n"
     ]
    }
   ],
   "source": [
    "#The first equation gives you:\n",
    "distance1a = v*t\n",
    "print(distance1a, \"m\")\n",
    "#Second equation gives you:\n",
    "distance1b = l*Num\n",
    "print(distance1b, \"m\")"
   ]
  },
  {
   "cell_type": "markdown",
   "metadata": {
    "id": "0y3HihBmW1Fv"
   },
   "source": [
    "### 10. How many CO$_2$ molecules impinge on the surface of the Stoddard solvent in one second?"
   ]
  },
  {
   "cell_type": "markdown",
   "metadata": {
    "id": "XwQPr_Q7lZEf"
   },
   "source": [
    "###This is outlined further in the Kinetic Theory Notes\n",
    "Think of the boundary as a \"wall\" and use the equation for wall collision frequency. And reorganize the equation using ideal gas law\n",
    "\n",
    "\\begin{equation}\n",
    "J_w=\\frac{1}{4}\\frac{N}{V}<v>\n",
    "\\end{equation}\n",
    "\n",
    "\\begin{equation}\n",
    "J_w=\\frac{1}{4}\\frac{P}{k_BT}<v>\n",
    "\\end{equation}\n",
    "\n",
    "###Number of CO2\n",
    "\\begin{equation}\n",
    "N_{CO_2}=J_wtA\n",
    "\\end{equation}"
   ]
  },
  {
   "cell_type": "code",
   "execution_count": 10,
   "metadata": {
    "executionInfo": {
     "elapsed": 140,
     "status": "ok",
     "timestamp": 1738272960078,
     "user": {
      "displayName": "Steven Yeo",
      "userId": "08814694878038742139"
     },
     "user_tz": 300
    },
    "id": "e18313sqmyWi"
   },
   "outputs": [
    {
     "name": "stdout",
     "output_type": "stream",
     "text": [
      "number of co2 is  289150681.9965662\n"
     ]
    }
   ],
   "source": [
    "#Calculate the Flux First\n",
    "#p is in Pa, which is 1kg/(m s^2)\n",
    "#v is in m/s\n",
    "#k is J/K, kg m^2/K s^2\n",
    "#t is K\n",
    "#J is in units of per m^2s,which makes sense as its dependent on area of the interface and time\n",
    "J = .25*p*v/(k*T)\n",
    "\n",
    "#t for this problem is 1 second\n",
    "t2=1\n",
    "#r is in m\n",
    "\n",
    "N=J*t2*np.pi*r**2\n",
    "\n",
    "print('number of co2 is ',N)"
   ]
  },
  {
   "cell_type": "markdown",
   "metadata": {
    "collapsed": true,
    "id": "p8dGVuRGW1Fv",
    "jupyter": {
     "outputs_hidden": true
    }
   },
   "source": [
    "### 11. Using your estimate of the diffusion constant in the solvent, how long does it take the same fraction CO$_2$  molecules to diffuse a similar distance in 1-dimension in the liquid phase?"
   ]
  },
  {
   "cell_type": "markdown",
   "metadata": {
    "id": "kh69YBj1yutz"
   },
   "source": [
    "We use the same approach for the gaseous diffusion in  number 7, however we utilize the liquid phase diffusion constant we calculated for problem 6."
   ]
  },
  {
   "cell_type": "code",
   "execution_count": 12,
   "metadata": {
    "colab": {
     "base_uri": "https://localhost:8080/"
    },
    "executionInfo": {
     "elapsed": 113,
     "status": "ok",
     "timestamp": 1738272965125,
     "user": {
      "displayName": "Steven Yeo",
      "userId": "08814694878038742139"
     },
     "user_tz": 300
    },
    "id": "5eyks1Bkzpfo",
    "outputId": "576dc841-e827-4b60-a5b4-04267f93b44e"
   },
   "outputs": [
    {
     "name": "stdout",
     "output_type": "stream",
     "text": [
      "164628.57032240863 seconds\n"
     ]
    }
   ],
   "source": [
    "#Our diffusion constant in 6 is D_stoddard\n",
    "t3 = (sigma**2)/(2*D_stoddard)\n",
    "print(t3, \"seconds\")"
   ]
  },
  {
   "cell_type": "markdown",
   "metadata": {
    "id": "HLcJW7DuW1Fv"
   },
   "source": [
    "### 12. Is it safe to assume that any CO$_2$ that travels from the surface into the bulk of the solvent is rapidly replaced from the gas phase?"
   ]
  },
  {
   "cell_type": "markdown",
   "metadata": {
    "id": "xmRK3YfciErC"
   },
   "source": [
    "Yes because of the differences in diffusion seen in problem 6. The Gas phase CO2 is moving much more rapidly than the liquid phase CO2. Any liquid CO2 that moves away from the interface should be replaced by gas phase CO2."
   ]
  },
  {
   "cell_type": "markdown",
   "metadata": {
    "id": "3bOQ9TndW1Fv"
   },
   "source": [
    "### 13. Suppose the volume of the gas-handling manifold is 100 cm$^3$ and is pressurized with CO$_2$ in the morning to 1.1 atm.  What will the pressure in the manifold be four hours later, when lab starts, if the manifold has a pinhole of 1 μm$^2$?"
   ]
  },
  {
   "cell_type": "markdown",
   "metadata": {
    "id": "HP_pz8ZVi-15"
   },
   "source": [
    "We have initial pressure, volume, and time we just need to solve for tau\n",
    "\\begin{equation}\n",
    "P = P_0e^{-\\frac{t}{τ}}\n",
    "\\end{equation}\n",
    "\n",
    "\\begin{equation}\n",
    "\\frac{1}{\\tau}=\\frac{1}{4}\\frac{A}{V}<v>\n",
    "\\end{equation}\n",
    "\n",
    "Rearrange the above equation, and use definition of <v> to simplify\n",
    "\n",
    "\\begin{equation}\n",
    "\\tau = \\frac{V}{A}\\sqrt{\\frac{2\\pi m}{k_BT}}\n",
    "\\end{equation}"
   ]
  },
  {
   "cell_type": "code",
   "execution_count": 13,
   "metadata": {
    "colab": {
     "base_uri": "https://localhost:8080/"
    },
    "executionInfo": {
     "elapsed": 2,
     "status": "ok",
     "timestamp": 1738181443180,
     "user": {
      "displayName": "Henry Lee",
      "userId": "12842901123205547343"
     },
     "user_tz": 300
    },
    "id": "-y_DkRz0vG4h",
    "outputId": "bd0c3057-6bd1-480f-ca35-63acf010a66b"
   },
   "outputs": [
    {
     "name": "stdout",
     "output_type": "stream",
     "text": [
      "109948.36148499705 Pa\n"
     ]
    }
   ],
   "source": [
    "#Pressure is given in atm, convert to Pa\n",
    "P0=1.1*101325\n",
    "#Time is given in hours, convert to seconds\n",
    "t4=4*60*60\n",
    "#given volume is in cm^3, convert that to m\n",
    "vol=100/(100**3)\n",
    "#given pinhole area is in um^2, convert to m^2\n",
    "A=1/(1e6**2)\n",
    "#m is in kg, and we use kb and T in standard units\n",
    "tau = vol/A*np.sqrt(2*np.pi*m/(k*T))\n",
    "P = P0*np.exp(-t4/tau)\n",
    "print(P,\"Pa\")"
   ]
  }
 ],
 "metadata": {
  "anaconda-cloud": {},
  "colab": {
   "provenance": []
  },
  "kernelspec": {
   "display_name": "Python 3 (ipykernel)",
   "language": "python",
   "name": "python3"
  },
  "language_info": {
   "codemirror_mode": {
    "name": "ipython",
    "version": 3
   },
   "file_extension": ".py",
   "mimetype": "text/x-python",
   "name": "python",
   "nbconvert_exporter": "python",
   "pygments_lexer": "ipython3",
   "version": "3.11.7"
  }
 },
 "nbformat": 4,
 "nbformat_minor": 4
}
