{
 "cells": [
  {
   "cell_type": "markdown",
   "metadata": {
    "collapsed": true,
    "id": "NQFkdYZxvcso",
    "jupyter": {
     "outputs_hidden": true
    }
   },
   "source": [
    "##### Chem 30324, Spring 2025, Homework3\n",
    "\n",
    "# Due February 7, 2025"
   ]
  },
  {
   "cell_type": "markdown",
   "metadata": {
    "id": "k0vXNqoRvcsq"
   },
   "source": [
    "## Heat capacity of solids"
   ]
  },
  {
   "cell_type": "markdown",
   "metadata": {
    "id": "Atopp5s5vcsq"
   },
   "source": [
    "### 1. In Einstein's [original paper](https://onlinelibrary.wiley.com/doi/abs/10.1002/andp.19063270110) on the heat capacity of solids, he compared his model results to experiments on diamond, using a frequency for the vibrating C atoms $\\nu = 2.75 \\times 10^{13} \\text{s}^{-1}$.  What fundamentally did he assume about the vibrating C atoms to describe the heat capacity of diamond?"
   ]
  },
  {
   "cell_type": "markdown",
   "metadata": {
    "id": "b9kOUtnMvcsq"
   },
   "source": [
    "### 2. Plot the Einstein model for the heat capacity of diamond from 0 to 1500 K."
   ]
  },
  {
   "cell_type": "markdown",
   "metadata": {
    "id": "WYlTEZNAvcsq"
   },
   "source": [
    "### 3. What is the probability for a C atom to have $n=1$ quanta of energy relative to $n=0$ at 1500 K?  At 150 K?"
   ]
  },
  {
   "cell_type": "markdown",
   "metadata": {
    "id": "LpECHJs2vcsq"
   },
   "source": [
    "## Blackbody radiators.\n",
    "By treating the sun as a blackbody radiator, Joseph Stefan derived the first reliable estimate of the temperature of the sun’s surface."
   ]
  },
  {
   "cell_type": "markdown",
   "metadata": {
    "id": "Is0bTHDnvcsr"
   },
   "source": [
    "### 4. Stefan estimated that the power per unit area radiated from the surface of the sun was 43.5 times greater than that of a metal bar heated to 1950 ̊C. What is the temperature of the surface of the sun?"
   ]
  },
  {
   "cell_type": "markdown",
   "metadata": {
    "id": "zAgjsjnXvcsr"
   },
   "source": [
    "### 5. Based on this temperature, what wavelength $\\lambda$ of light does the sun emit most intensely, in nm? What frequency of light, in s$^{–1}$? What color does this correspond to?"
   ]
  },
  {
   "cell_type": "markdown",
   "metadata": {
    "id": "MnVCvte5vcsr"
   },
   "source": [
    "### 6. What is the ultraviolet catastrophe, and what did Planck have to assume to circumvent it?"
   ]
  },
  {
   "cell_type": "markdown",
   "metadata": {
    "id": "cqKDjZx8vcsr"
   },
   "source": [
    "## Photoelectric effect.\n",
    "The photoelectric effect refers to the emission of electrons that is observed when light is shone on a metal. The effect was the clue that Einstein needed to illucidate the particulate nature of the interaction of light and matter."
   ]
  },
  {
   "cell_type": "markdown",
   "metadata": {
    "id": "gPnmsDIlvcsr"
   },
   "source": [
    "### 7. You set up an experiment in which you shine light of varying intensity and constant frequency at a metal surface and measure the maximum kinetic energy of the emitted electrons. As an accomplished student of classical physics, you know that the energy contained in a wave is proportional to the square of its intensity. Based on this knowledge, sketch how you $expect$ the kinetic energy of the electrons to vary in the experiment. Briefly justify your answer."
   ]
  },
  {
   "cell_type": "markdown",
   "metadata": {
    "id": "TADkXtcWvcsr"
   },
   "source": [
    "### 8. Not finding a result that you like, you set up another experiment in which you vary the frequency of light at constant intensity. Below is the data you collect. Use the data to determine the workfunction of the metal, in eV, and to estimate Planck’s constant, in eV s."
   ]
  },
  {
   "cell_type": "markdown",
   "metadata": {
    "id": "cwnzt7cdvcss"
   },
   "source": [
    "|Light Wavelength (nm)|Electron Kinetic Energy (eV)|\n",
    "|:-:|:-:|\n",
    "|263|0.13|\n",
    "|250|0.33|\n",
    "|234|0.68|\n",
    "|218|1.08|\n",
    "|184|2.13|"
   ]
  },
  {
   "cell_type": "markdown",
   "metadata": {
    "id": "p_6LlkRXvcss"
   },
   "source": [
    "### 9. What is the metal? $Hint:$ It is a coinage metal."
   ]
  },
  {
   "cell_type": "markdown",
   "metadata": {
    "id": "XVjRbDHlvcss"
   },
   "source": [
    "## Diffraction.\n",
    "Diffraction is the scattering of particles off of a crystal, and is today an essential means of probing the structure of matter. Modern diffraction is performed using bright light and particle sources of various types."
   ]
  },
  {
   "cell_type": "markdown",
   "metadata": {
    "id": "XdQ0RKkMvcss"
   },
   "source": [
    "### 10. The spacing between atoms in a Ag crystal is approximately 2.9 Å, a distance that can be measured by scattering photons of a comparable wavelength off the crystal. What is the energy (in eV) of a photon of wavelength 2.9 Å? What part of the electromagnetic spectrum does this correspond to?"
   ]
  },
  {
   "cell_type": "markdown",
   "metadata": {
    "id": "7C5o0Peyvcss"
   },
   "source": [
    "### 11. Suppose you have a device that produces these photons at a power of 1 μW. How many photons/s does this correspond to?"
   ]
  },
  {
   "cell_type": "markdown",
   "metadata": {
    "id": "ubvD12aZvcss"
   },
   "source": [
    "### 12. The Ag spacing can also be measured by scattering $electrons$ off a crystal. To what speed (in m/s) would an electron need to be accelerated to have the necessary de Broglie wavelength? What fraction of the speed of light is this?"
   ]
  },
  {
   "cell_type": "markdown",
   "metadata": {
    "id": "YNauhmhvvcss"
   },
   "source": [
    "## The Bohr atom.\n",
    "Bohr developed the first successful model of the energy spectrum of a hydrogen atom by postulating that electrons can only exist in certain fixed energy “orbits” indexed by the quantum number $n$. (Recall that the equations describing the Bohr atom are in Table 4 of the course outline.)"
   ]
  },
  {
   "cell_type": "markdown",
   "metadata": {
    "id": "qjEo1rOTvcss"
   },
   "source": [
    "### 13. Would light need to be absorbed or emitted to cause an electron to jump from the $n$ = 1 to the $n$ = 2 orbit? What wavelength of light does this correspond to?"
   ]
  },
  {
   "cell_type": "markdown",
   "metadata": {
    "id": "kcbBYJG8vcss"
   },
   "source": [
    "### 14. What is the circumference of the $n$ = 2 orbit? What is the de Broglie wavelength of an electron in the $n$ = 2 orbit? How do these compare?"
   ]
  }
 ],
 "metadata": {
  "anaconda-cloud": {},
  "colab": {
   "provenance": []
  },
  "kernelspec": {
   "display_name": "Python [conda env:base] *",
   "language": "python",
   "name": "conda-base-py"
  },
  "language_info": {
   "codemirror_mode": {
    "name": "ipython",
    "version": 3
   },
   "file_extension": ".py",
   "mimetype": "text/x-python",
   "name": "python",
   "nbconvert_exporter": "python",
   "pygments_lexer": "ipython3",
   "version": "3.11.11"
  }
 },
 "nbformat": 4,
 "nbformat_minor": 4
}
